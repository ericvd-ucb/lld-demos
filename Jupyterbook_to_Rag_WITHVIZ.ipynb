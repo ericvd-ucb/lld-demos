{
 "cells": [
  {
   "cell_type": "code",
   "execution_count": 55,
   "metadata": {},
   "outputs": [
    {
     "name": "stderr",
     "output_type": "stream",
     "text": [
      "huggingface/tokenizers: The current process just got forked, after parallelism has already been used. Disabling parallelism to avoid deadlocks...\n",
      "To disable this warning, you can either:\n",
      "\t- Avoid using `tokenizers` before the fork if possible\n",
      "\t- Explicitly set the environment variable TOKENIZERS_PARALLELISM=(true | false)\n"
     ]
    },
    {
     "name": "stdout",
     "output_type": "stream",
     "text": [
      "Requirement already satisfied: gitpython in /srv/conda/envs/notebook/lib/python3.11/site-packages (3.1.43)\n",
      "Requirement already satisfied: gitdb<5,>=4.0.1 in /srv/conda/envs/notebook/lib/python3.11/site-packages (from gitpython) (4.0.11)\n",
      "Requirement already satisfied: smmap<6,>=3.0.1 in /srv/conda/envs/notebook/lib/python3.11/site-packages (from gitdb<5,>=4.0.1->gitpython) (5.0.1)\n"
     ]
    }
   ],
   "source": [
    "!pip install gitpython"
   ]
  },
  {
   "cell_type": "code",
   "execution_count": 56,
   "metadata": {},
   "outputs": [
    {
     "name": "stderr",
     "output_type": "stream",
     "text": [
      "huggingface/tokenizers: The current process just got forked, after parallelism has already been used. Disabling parallelism to avoid deadlocks...\n",
      "To disable this warning, you can either:\n",
      "\t- Avoid using `tokenizers` before the fork if possible\n",
      "\t- Explicitly set the environment variable TOKENIZERS_PARALLELISM=(true | false)\n"
     ]
    },
    {
     "name": "stdout",
     "output_type": "stream",
     "text": [
      "Requirement already satisfied: sentence-transformers in /srv/conda/envs/notebook/lib/python3.11/site-packages (3.3.1)\n",
      "Requirement already satisfied: transformers<5.0.0,>=4.41.0 in /srv/conda/envs/notebook/lib/python3.11/site-packages (from sentence-transformers) (4.47.0)\n",
      "Requirement already satisfied: tqdm in /srv/conda/envs/notebook/lib/python3.11/site-packages (from sentence-transformers) (4.67.0)\n",
      "Requirement already satisfied: torch>=1.11.0 in /srv/conda/envs/notebook/lib/python3.11/site-packages (from sentence-transformers) (2.5.1)\n",
      "Requirement already satisfied: scikit-learn in /srv/conda/envs/notebook/lib/python3.11/site-packages (from sentence-transformers) (1.2.2)\n",
      "Requirement already satisfied: scipy in /srv/conda/envs/notebook/lib/python3.11/site-packages (from sentence-transformers) (1.10.1)\n",
      "Requirement already satisfied: huggingface-hub>=0.20.0 in /srv/conda/envs/notebook/lib/python3.11/site-packages (from sentence-transformers) (0.26.2)\n",
      "Requirement already satisfied: Pillow in /srv/conda/envs/notebook/lib/python3.11/site-packages (from sentence-transformers) (10.0.1)\n",
      "Requirement already satisfied: filelock in /srv/conda/envs/notebook/lib/python3.11/site-packages (from huggingface-hub>=0.20.0->sentence-transformers) (3.16.1)\n",
      "Requirement already satisfied: fsspec>=2023.5.0 in /srv/conda/envs/notebook/lib/python3.11/site-packages (from huggingface-hub>=0.20.0->sentence-transformers) (2024.3.1)\n",
      "Requirement already satisfied: packaging>=20.9 in /srv/conda/envs/notebook/lib/python3.11/site-packages (from huggingface-hub>=0.20.0->sentence-transformers) (24.0)\n",
      "Requirement already satisfied: pyyaml>=5.1 in /srv/conda/envs/notebook/lib/python3.11/site-packages (from huggingface-hub>=0.20.0->sentence-transformers) (6.0.1)\n",
      "Requirement already satisfied: requests in /srv/conda/envs/notebook/lib/python3.11/site-packages (from huggingface-hub>=0.20.0->sentence-transformers) (2.32.3)\n",
      "Requirement already satisfied: typing-extensions>=3.7.4.3 in /srv/conda/envs/notebook/lib/python3.11/site-packages (from huggingface-hub>=0.20.0->sentence-transformers) (4.12.2)\n",
      "Requirement already satisfied: sympy==1.13.1 in /srv/conda/envs/notebook/lib/python3.11/site-packages (from torch>=1.11.0->sentence-transformers) (1.13.1)\n",
      "Requirement already satisfied: networkx in /srv/conda/envs/notebook/lib/python3.11/site-packages (from torch>=1.11.0->sentence-transformers) (3.4.2)\n",
      "Requirement already satisfied: jinja2 in /srv/conda/envs/notebook/lib/python3.11/site-packages (from torch>=1.11.0->sentence-transformers) (3.1.3)\n",
      "Requirement already satisfied: mpmath<1.4,>=1.1.0 in /srv/conda/envs/notebook/lib/python3.11/site-packages (from sympy==1.13.1->torch>=1.11.0->sentence-transformers) (1.3.0)\n",
      "Requirement already satisfied: numpy>=1.17 in /srv/conda/envs/notebook/lib/python3.11/site-packages (from transformers<5.0.0,>=4.41.0->sentence-transformers) (1.24.2)\n",
      "Requirement already satisfied: regex!=2019.12.17 in /srv/conda/envs/notebook/lib/python3.11/site-packages (from transformers<5.0.0,>=4.41.0->sentence-transformers) (2024.11.6)\n",
      "Requirement already satisfied: tokenizers<0.22,>=0.21 in /srv/conda/envs/notebook/lib/python3.11/site-packages (from transformers<5.0.0,>=4.41.0->sentence-transformers) (0.21.0)\n",
      "Requirement already satisfied: safetensors>=0.4.1 in /srv/conda/envs/notebook/lib/python3.11/site-packages (from transformers<5.0.0,>=4.41.0->sentence-transformers) (0.4.5)\n",
      "Requirement already satisfied: joblib>=1.1.1 in /srv/conda/envs/notebook/lib/python3.11/site-packages (from scikit-learn->sentence-transformers) (1.4.2)\n",
      "Requirement already satisfied: threadpoolctl>=2.0.0 in /srv/conda/envs/notebook/lib/python3.11/site-packages (from scikit-learn->sentence-transformers) (3.5.0)\n",
      "Requirement already satisfied: MarkupSafe>=2.0 in /srv/conda/envs/notebook/lib/python3.11/site-packages (from jinja2->torch>=1.11.0->sentence-transformers) (2.1.5)\n",
      "Requirement already satisfied: charset-normalizer<4,>=2 in /srv/conda/envs/notebook/lib/python3.11/site-packages (from requests->huggingface-hub>=0.20.0->sentence-transformers) (3.3.2)\n",
      "Requirement already satisfied: idna<4,>=2.5 in /srv/conda/envs/notebook/lib/python3.11/site-packages (from requests->huggingface-hub>=0.20.0->sentence-transformers) (3.6)\n",
      "Requirement already satisfied: urllib3<3,>=1.21.1 in /srv/conda/envs/notebook/lib/python3.11/site-packages (from requests->huggingface-hub>=0.20.0->sentence-transformers) (1.26.19)\n",
      "Requirement already satisfied: certifi>=2017.4.17 in /srv/conda/envs/notebook/lib/python3.11/site-packages (from requests->huggingface-hub>=0.20.0->sentence-transformers) (2024.8.30)\n"
     ]
    }
   ],
   "source": [
    "!pip install sentence-transformers  "
   ]
  },
  {
   "cell_type": "code",
   "execution_count": 57,
   "metadata": {},
   "outputs": [],
   "source": [
    "import os\n",
    "from git import Repo\n",
    "import os\n",
    "import json\n",
    "import glob"
   ]
  },
  {
   "cell_type": "markdown",
   "metadata": {},
   "source": [
    "## Lets point at a github repo that has a jupyterbook in it"
   ]
  },
  {
   "cell_type": "code",
   "execution_count": 58,
   "metadata": {},
   "outputs": [
    {
     "name": "stdout",
     "output_type": "stream",
     "text": [
      "Contents of ./jupyterbook/docs/_sources/content:\n",
      "['09-macro', '07-game-theory', '12-environmental', '04-production', '03-public', 'references.md', '05-utility', '02-supply', '08-development', '10-finance', 'intro.md', '11-econometrics', '06-inequality', '00-intro', 'LICENSE.md', '01-demand']\n"
     ]
    }
   ],
   "source": [
    "\n",
    "# Define the GitHub repository URL and the local path to clone it to\n",
    "repo_url = \"https://github.com/data-88e/textbook.git\"  # Clone the entire repository\n",
    "local_path = \"./jupyterbook\"\n",
    "\n",
    "# Clone the repository\n",
    "if not os.path.exists(local_path):\n",
    "    Repo.clone_from(repo_url, local_path)\n",
    "\n",
    "# Define the path to the specific folder you're interested in\n",
    "content_path = os.path.join(local_path, 'docs', '_sources', 'content')\n",
    "\n",
    "# Check if the specific folder exists and print its contents\n",
    "if os.path.exists(content_path):\n",
    "    print(f\"Contents of {content_path}:\")\n",
    "    print(os.listdir(content_path))\n",
    "else:\n",
    "    print(f\"Path {content_path} does not exist.\")\n"
   ]
  },
  {
   "cell_type": "code",
   "execution_count": 59,
   "metadata": {},
   "outputs": [
    {
     "name": "stdout",
     "output_type": "stream",
     "text": [
      "Extracted 211 markdown files and 211 code files.\n"
     ]
    }
   ],
   "source": [
    "\n",
    "# Function to extract content from .ipynb files by parsing them as JSON\n",
    "def extract_notebook_content_as_json(ipynb_file):\n",
    "    try:\n",
    "        with open(ipynb_file, 'r', encoding='utf-8') as f:\n",
    "            notebook_content = json.load(f)  # Load the ipynb file as a JSON object\n",
    "    except Exception as e:\n",
    "        print(f\"Error reading {ipynb_file}: {e}\")\n",
    "        return None, None\n",
    "\n",
    "    # Ensure the notebook has cells\n",
    "    if 'cells' not in notebook_content:\n",
    "        print(f\"No cells found in {ipynb_file}\")\n",
    "        return None, None\n",
    "\n",
    "    # Helper function to join cell source content\n",
    "    def join_source(cell):\n",
    "        if isinstance(cell.get('source'), list):\n",
    "            return ''.join(cell['source'])  # Join list elements into a single string\n",
    "        return cell.get('source', '')\n",
    "\n",
    "    # Extract content from markdown cells\n",
    "    markdown_cells = [\n",
    "        join_source(cell) for cell in notebook_content['cells'] if cell.get('cell_type') == 'markdown'\n",
    "    ]\n",
    "\n",
    "    # Optionally, you could also extract code cells if needed\n",
    "    code_cells = [\n",
    "        join_source(cell) for cell in notebook_content['cells'] if cell.get('cell_type') == 'code'\n",
    "    ]\n",
    "    \n",
    "    # Combine the markdown cells into one text block (or return them separately)\n",
    "    return '\\n'.join(markdown_cells), '\\n'.join(code_cells)\n",
    "\n",
    "# Directory where the cloned JupyterBook files are stored\n",
    "local_path = \"./jupyterbook\"\n",
    "\n",
    "# Gather all the Jupyter notebook (.ipynb) files\n",
    "ipynb_files = glob.glob(os.path.join(local_path, '**', '*.ipynb'), recursive=True)\n",
    "\n",
    "# Extract text from all notebook files\n",
    "markdown_content = []\n",
    "code_content = []\n",
    "\n",
    "for file in ipynb_files:\n",
    "    markdown_text, code_text = extract_notebook_content_as_json(file)\n",
    "    if markdown_text and code_text:  # Ensure that valid content was returned\n",
    "        markdown_content.append(markdown_text)\n",
    "        code_content.append(code_text)\n",
    "\n",
    "# Now `markdown_content` contains all the markdown content from the notebooks\n",
    "# and `code_content` contains all the code.\n",
    "\n",
    "print(f\"Extracted {len(markdown_content)} markdown files and {len(code_content)} code files.\")\n",
    "\n",
    "\n"
   ]
  },
  {
   "cell_type": "code",
   "execution_count": 60,
   "metadata": {},
   "outputs": [
    {
     "name": "stdout",
     "output_type": "stream",
     "text": [
      "First markdown entry:\n",
      "# Equilibria & Oligopolies\n",
      "\n",
      "This section introduces the concept of equilibria in games, the paradigm of the prisoner's dilemma, and oligopolies. These concepts are essential to understanding the models we will be studying the next sections, and for relating game theory to its economic applications.\n",
      "## Equilibrium\n",
      "\n",
      "The [prisoner's dilemma](https://en.wikipedia.org/wiki/Prisoner%27s_dilemma) is a classic game first discussed by Merrill Flood and Melvin Dresher in 1950. In this game, there are two prisoners who have been captured and are being interrogated. The prisoners cannot contact each other in any way. They have two options: they can **defect** (betray the other prisoner to the police) or they can **cooperate** (maintain their silence). If both defect, both receive 4 years in prison. If one defects and the other does not, the defector goes free and the cooperator receives 5 years in prison. If both cooperate (meaning neither talks to the police), then they each receive 2 years in prison. We define **mutual defection** as the case when both prisoners defect and **mutual cooperation** as the case when both cooperate. The purpose of this game is to consider how a completely rational person would be best advised to proceed, and how different strategies for playing this game can be more or less effective.\n",
      "\n",
      "<table class=\"payoff-matrix\" style=\"text-align: center; table-layout: fixed;\">\n",
      "    \n",
      "<tr>\n",
      "    <td colspan=\"2\" rowspan=\"2\" width=\"170\" style=\"border-width: 0 1px 1px 0;\"></td>\n",
      "    <td colspan=\"2\">Prisoner B</td>\n",
      "</tr>\n",
      "<tr>\n",
      "    <td width=\"85\">Cooperate</td>\n",
      "    <td width=\"85\">Defect</td>\n",
      "</tr>\n",
      "<tr>\n",
      "    <td rowspan=\"2\">Prisoner A</td>\n",
      "    <td>Cooperate</td>\n",
      "    <td>(2, 2)</td>\n",
      "    <td>(5, 0)</td>\n",
      "</tr>\n",
      "<tr>\n",
      "    <td>Defect</td>\n",
      "    <td>(0, 5)</td>\n",
      "    <td>(4, 4)</td>\n",
      "</tr>\n",
      "    \n",
      "</table>\n",
      "\n",
      "In the above payoff matrix, we see that if Prisoner A cooperates and Prisoner B defects, then Prisoner A gets 5 years in prisoner and Prisoner B gets none. It is important to note that the above payoff matrix is inverted; because we are talking about _years in prison_ as opposed to utility, a higher value is **worse** for the player, and a player's goal is to _minimize_ their value in the payoff matrix, not maximize it as normally. We will use this payoff matrix convention when discussing the prisoner's dilemma, but _not_ with other games.\n",
      "\n",
      "An important concept in game theory is finding the equilibrium of a game. There are different types of equilibria, but the most common one considered is the **Nash equilibrium**, named for the mathematician John Forbes Nash, Jr. (who you may remember as a character played by Russel Crowe in [_A Beautiful Mind_](https://en.wikipedia.org/wiki/A_Beautiful_Mind_(film))). A Nash equilibrium occurs when no player can increase their own payoff by changing only their own strategy.\n",
      "```{admonition} Definition\n",
      "A **Nash equilibrium** is a set of strategy choices in a non-cooperative game in which each player, assumed to know the equilibrium strategies of the other players, has a chosen strategy and there can be no monotonic improvement; that is, no player can increase their payoffs by changing their strategy without another player changing _their_ strategy.\n",
      "```\n",
      "Using this definition, what constitutes a Nash equilibrium for the prisoner's dilemma? Well let's consider the four possible combinations of strategies. (We use \"D\" as shorthand for \"defect\" and \"C\" for \"cooperate\" below.)\n",
      "\n",
      "1. **Prisoner A: C, Prisoner B: C.** In this case, both Prisoner A and Prisoner B get 4 years. However, if Prisoner A's strategy remains unchanged, Prisoner B can get fewer years in prison by changing to D, and vice versa. Thus, this is **not** a Nash equilibrium.\n",
      "2. **Prisoner A: D, Prisoner B: C.** In this case, Prisoner B can change to D and lower their years from 5 to 4. Thus, this is **not** a Nash equilibrium.\n",
      "3. **Prisoner A: C, Prisoner B: D.** As with (2), Prisoner A can change to D and lower their years in prison. Thus, this is **not** a Nash equilibrium.\n",
      "4. **Prisoner A: D, Prisoner B: D.** In this case, if Prisoner A changes to C, then their years in prison _increases_ from 4 to 5, as with Prisoner B. Neither player can increase their winnings (decrease their years in prison) by changing their strategy. Thus, this **is** a Nash equilibrium.\n",
      "\n",
      "By describing the four states of the game, we see that only mutual defection is a Nash equilibrium of the prisoner's dilemma.\n",
      "```{admonition} Nash equilibria in payoff matrices\n",
      ":class: tip\n",
      "\n",
      "It is easy to use a payoff matrix to  see which  states, if any, are Nash equilibria. To see if a game state is a Nash equilibrium, the first value in the cell must be the maximum among all first values in that column and the second value must be the maximum across all second values in that row. This is because moving up and down a column represents changing the row-player's strategy and  moving along a row represents changing the column-player's strategy. If these values are both maxima in their respective directions, then no player can obtain a better payoff by unilaterally changing their strategy, and we have a Nash equilibrium.\n",
      "\n",
      "You can easily verify this by looking at the payoff matrix for the prisoner's dilemma: the  first 4 in mutual defection has the best payoff in the column and the second  4 has the best payoff in the row.\n",
      "```\n",
      "## Oligopolies\n",
      "\n",
      "One of the most common applications of game theory in economics is the study of **oligopolies**, markets where the number of participants is limited. There are several examples of oligopolies that we experience without knowing in daily life: airlines, soft drinks, and telecom providers, to name a few. Oligopolies are different from regular markets in that they allow their participants to function similar to a monopoly by setting prices as a group; groups of participants conspiring on this kind of illicit activity are referred to as **cartels**. \n",
      "\n",
      "Within oligopolies, however, we can observe competition more like a normal market as firms attempt to take market share from one another. When cartels set prices (by limiting the production of the good or service provided by their market), a firm can make a bid for market share by ignoring the agreed-upon production level and producing more. This has the effect of lowering the price of the good but the increase in production by the renegade firm will allow them to make up for the lost marginal revenue through increased sales volume. In this way, oligopoly members can compete against each other, making the market more and more competitive.\n",
      "\n",
      "A prime example of this type of within-cartel competition was observed in the [2020 oil price war between Russia and Saudi Arabia](https://en.wikipedia.org/wiki/2020_Russia%E2%80%93Saudi_Arabia_oil_price_war). Both countries are members of [OPEC (the Organization of Petroleum Exporting Countries)](https://en.wikipedia.org/wiki/OPEC), an oil cartel that consists of 12 member countries controlling 79% of the world's oil reserves and 44% of oil production. OPEC sets oil prices by limiting the output of its member countries (a decrease in production results in higher prices).\n",
      "\n",
      "The price war began when Saudi Arabia discounted its oil in response to Russia's refusal to reduce production in accordance with OPEC's directive. OPEC's members had agreed to reduce oil production due to a low forecasted demand for oil due to the COVID-19 pandemic. When Russia (who was not an official member of OPEC but had agreed to cooperate with Saudi Arabia to manage oil prices) didn't abide  by OPEC's decision, Saudi Arabia announced discounts on its oil, starting the price war and leading to a massive drop in the price of oil. We can see the effects of this price war by looking at the price per barrel of OPEC's crude oil, plotted below.\n",
      "```\n",
      "old plot code -- this cell is removed\n",
      "uso = Table.read_table(\"USO.csv\")\n",
      "dates = uso.apply(pd.to_datetime, \"Date\")\n",
      "uso = uso.with_column(\"Date\", dates)\n",
      "uso.to_df().plot.line(\"Date\", \"Close\", figsize=[15,7], legend=False)\n",
      "plt.vlines(dt.datetime(2020, 3, 8), -5, 125, color=\"r\")\n",
      "plt.ylim(0, 120)\n",
      "plt.xlim(min(uso.column(\"Date\")), max(uso.column(\"Date\")))\n",
      "plt.ylabel(\"USO Closing Price\");\n",
      "```\n",
      "The plot above marks the official start of the price war on March 8, 2020, in red. We see some precipitous drops both just before and for a while after the start of the price war, indicating the effect that it is having on oil prices. While there are some confounding variables here (hi there, COVID-19), we still see a serious drop in price that is not just attributable to the stock market volatility that experienced by the rest of the market in early 2020.\n",
      " \n",
      "\n",
      "First code entry:\n",
      "from datascience import *\n",
      "import matplotlib.pyplot as plt\n",
      "import numpy as np\n",
      "import pandas as pd\n",
      "import datetime as dt\n",
      "import warnings\n",
      "warnings.simplefilter(\"ignore\")\n",
      "import plotly.graph_objects as go\n",
      "from plotly.offline import plot\n",
      "from IPython.display import display, HTML\n",
      "%matplotlib inline\n",
      "# data from https://www.quandl.com/data/OPEC/ORB-OPEC-Crude-Oil-Price\n",
      "opec = pd.read_csv(\"opec_prices.csv\")\n",
      "opec[\"Date\"] = opec[\"Date\"].apply(pd.to_datetime)\n",
      "opec = opec[opec[\"Date\"] >= dt.datetime(2019, 7, 1)]\n",
      "start_date = dt.datetime(2020, 3, 8)\n",
      "\n",
      "fig = go.Figure()\n",
      "fig.add_trace(go.Scatter(x=opec[\"Date\"], y=opec[\"Value\"], name=\"OPEC Crude Oil Price\", showlegend=False))\n",
      "fig.add_trace(go.Scatter(x=[start_date, start_date], y=[0, 120], mode=\"lines\", name=\"Start of Price War\", showlegend=False))\n",
      "fig.update_layout(yaxis=dict(range=[8, 82], title=\"OPEC Crude Oil Price ($)\"), xaxis=dict(title=\"Date\"))\n",
      "plot(fig, filename=\"fig0.html\", auto_open=False)\n",
      "\n",
      "display(HTML(\"fig0.html\"))\n"
     ]
    }
   ],
   "source": [
    "# Inspect a few entries from the extracted markdown and code content\n",
    "print(\"First markdown entry:\")\n",
    "print(markdown_content[0] if markdown_content else \"No markdown content found.\")\n",
    "\n",
    "print(\"\\nFirst code entry:\")\n",
    "print(code_content[0] if code_content else \"No code content found.\")\n"
   ]
  },
  {
   "cell_type": "code",
   "execution_count": null,
   "metadata": {},
   "outputs": [],
   "source": []
  },
  {
   "cell_type": "code",
   "execution_count": 61,
   "metadata": {},
   "outputs": [],
   "source": [
    "from sentence_transformers import SentenceTransformer\n",
    "\n",
    "# Initialize the model (you can choose a different transformer if needed)\n",
    "model = SentenceTransformer('all-MiniLM-L6-v2')\n",
    "\n",
    "# Vectorize the extracted markdown content\n",
    "markdown_embeddings = model.encode(markdown_content)\n",
    "\n",
    "# (Optionally) Vectorize the code content if you want to answer code-related questions\n",
    "code_embeddings = model.encode(code_content)\n"
   ]
  },
  {
   "cell_type": "code",
   "execution_count": 62,
   "metadata": {},
   "outputs": [],
   "source": [
    "import matplotlib.pyplot as plt\n",
    "from sklearn.manifold import TSNE\n",
    "import numpy as np\n"
   ]
  },
  {
   "cell_type": "code",
   "execution_count": 63,
   "metadata": {},
   "outputs": [
    {
     "data": {
      "image/png": "[encoded data removed]",
      "text/plain": [
       "<Figure size 1000x600 with 1 Axes>"
      ]
     },
     "metadata": {},
     "output_type": "display_data"
    }
   ],
   "source": [
    "\n",
    "# Combine markdown and code embeddings\n",
    "combined_embeddings = np.concatenate((markdown_embeddings, code_embeddings), axis=0)\n",
    "\n",
    "# Apply t-SNE to reduce dimensions to 2D\n",
    "tsne = TSNE(n_components=2, random_state=42)\n",
    "reduced_embeddings = tsne.fit_transform(combined_embeddings)\n",
    "\n",
    "# Split the reduced embeddings back into markdown and code\n",
    "markdown_reduced = reduced_embeddings[:len(markdown_embeddings)]\n",
    "code_reduced = reduced_embeddings[len(markdown_embeddings):]\n",
    "\n",
    "# Plot the embeddings\n",
    "plt.figure(figsize=(10, 6))\n",
    "plt.scatter(markdown_reduced[:, 0], markdown_reduced[:, 1], label='Markdown', alpha=0.5)\n",
    "plt.scatter(code_reduced[:, 0], code_reduced[:, 1], label='Code', alpha=0.5)\n",
    "plt.legend()\n",
    "plt.title('t-SNE Visualization of Markdown and Code Embeddings')\n",
    "plt.xlabel('Dimension 1')\n",
    "plt.ylabel('Dimension 2')\n",
    "plt.show()"
   ]
  },
  {
   "cell_type": "code",
   "execution_count": 64,
   "metadata": {},
   "outputs": [
    {
     "name": "stderr",
     "output_type": "stream",
     "text": [
      "huggingface/tokenizers: The current process just got forked, after parallelism has already been used. Disabling parallelism to avoid deadlocks...\n",
      "To disable this warning, you can either:\n",
      "\t- Avoid using `tokenizers` before the fork if possible\n",
      "\t- Explicitly set the environment variable TOKENIZERS_PARALLELISM=(true | false)\n"
     ]
    },
    {
     "name": "stdout",
     "output_type": "stream",
     "text": [
      "Requirement already satisfied: matplotlib in /srv/conda/envs/notebook/lib/python3.11/site-packages (3.7.1)\n",
      "Requirement already satisfied: scikit-learn in /srv/conda/envs/notebook/lib/python3.11/site-packages (1.2.2)\n",
      "Requirement already satisfied: plotly in /srv/conda/envs/notebook/lib/python3.11/site-packages (5.13.1)\n",
      "Requirement already satisfied: contourpy>=1.0.1 in /srv/conda/envs/notebook/lib/python3.11/site-packages (from matplotlib) (1.3.1)\n",
      "Requirement already satisfied: cycler>=0.10 in /srv/conda/envs/notebook/lib/python3.11/site-packages (from matplotlib) (0.12.1)\n",
      "Requirement already satisfied: fonttools>=4.22.0 in /srv/conda/envs/notebook/lib/python3.11/site-packages (from matplotlib) (4.55.0)\n",
      "Requirement already satisfied: kiwisolver>=1.0.1 in /srv/conda/envs/notebook/lib/python3.11/site-packages (from matplotlib) (1.4.7)\n",
      "Requirement already satisfied: numpy>=1.20 in /srv/conda/envs/notebook/lib/python3.11/site-packages (from matplotlib) (1.24.2)\n",
      "Requirement already satisfied: packaging>=20.0 in /srv/conda/envs/notebook/lib/python3.11/site-packages (from matplotlib) (24.0)\n",
      "Requirement already satisfied: pillow>=6.2.0 in /srv/conda/envs/notebook/lib/python3.11/site-packages (from matplotlib) (10.0.1)\n",
      "Requirement already satisfied: pyparsing>=2.3.1 in /srv/conda/envs/notebook/lib/python3.11/site-packages (from matplotlib) (3.2.0)\n",
      "Requirement already satisfied: python-dateutil>=2.7 in /srv/conda/envs/notebook/lib/python3.11/site-packages (from matplotlib) (2.9.0)\n",
      "Requirement already satisfied: scipy>=1.3.2 in /srv/conda/envs/notebook/lib/python3.11/site-packages (from scikit-learn) (1.10.1)\n",
      "Requirement already satisfied: joblib>=1.1.1 in /srv/conda/envs/notebook/lib/python3.11/site-packages (from scikit-learn) (1.4.2)\n",
      "Requirement already satisfied: threadpoolctl>=2.0.0 in /srv/conda/envs/notebook/lib/python3.11/site-packages (from scikit-learn) (3.5.0)\n",
      "Requirement already satisfied: tenacity>=6.2.0 in /srv/conda/envs/notebook/lib/python3.11/site-packages (from plotly) (9.0.0)\n",
      "Requirement already satisfied: six>=1.5 in /srv/conda/envs/notebook/lib/python3.11/site-packages (from python-dateutil>=2.7->matplotlib) (1.16.0)\n"
     ]
    }
   ],
   "source": [
    "# Install necessary libraries\n",
    "!pip install matplotlib scikit-learn plotly"
   ]
  },
  {
   "cell_type": "code",
   "execution_count": 65,
   "metadata": {},
   "outputs": [],
   "source": [
    "# Import libraries\n",
    "import matplotlib.pyplot as plt\n",
    "from sklearn.manifold import TSNE\n",
    "import numpy as np\n",
    "import plotly.express as px"
   ]
  },
  {
   "cell_type": "code",
   "execution_count": 66,
   "metadata": {},
   "outputs": [
    {
     "data": {
      "application/vnd.plotly.v1+json": {
       "config": {
        "plotlyServerURL": "https://plot.ly"
       },
       "data": [
        {
         "hovertemplate": "Label=Markdown<br>Dim1=%{x}<br>Dim2=%{y}<br>Dim3=%{z}<extra></extra>",
         "legendgroup": "Markdown",
         "marker": {
          "color": "#636efa",
          "symbol": "circle"
         },
         "mode": "markers",
         "name": "Markdown",
         "scene": "scene",
         "showlegend": true,
         "type": "scatter3d",
         "x": [
          59.49072265625,
          76.51850891113281,
          49.82172393798828,
          -57.20775604248047,
          21.397008895874023,
          21.552326202392578,
          6.488323211669922,
          29.545246124267578,
          60.61445617675781,
          46.090476989746094,
          51.9410400390625,
          45.60545349121094,
          42.93598556518555,
          33.316402435302734,
          45.81605911254883,
          77.36412048339844,
          -15.598772048950195,
          14.140406608581543,
          -64.11575317382812,
          11.134183883666992,
          9.902520179748535,
          31.510038375854492,
          41.70608139038086,
          28.42451286315918,
          29.322341918945312,
          12.80550765991211,
          69.39657592773438,
          62.13987731933594,
          63.02634811401367,
          -64.19129180908203,
          21.397008895874023,
          33.109107971191406,
          16.12148666381836,
          29.545246124267578,
          68.61930084228516,
          42.698917388916016,
          51.9410400390625,
          45.60545349121094,
          31.525014877319336,
          33.316402435302734,
          45.81605911254883,
          77.36412048339844,
          -15.598772048950195,
          20.096059799194336,
          -55.13516616821289,
          15.998859405517578,
          9.902520179748535,
          31.510038375854492,
          41.70608139038086,
          28.42451286315918,
          29.322341918945312,
          12.80550765991211,
          69.39657592773438,
          62.13987731933594,
          63.02634811401367,
          -64.19129180908203,
          21.397008895874023,
          34.54022979736328,
          18.914846420288086,
          29.545246124267578,
          68.39402770996094,
          56.61471939086914,
          51.9410400390625,
          34.48927688598633,
          31.525014877319336,
          31.634164810180664,
          45.81605911254883,
          77.36412048339844,
          -15.598772048950195,
          14.140406608581543,
          -64.11575317382812,
          15.998859405517578,
          17.95537757873535,
          31.510038375854492,
          41.70608139038086,
          28.42451286315918,
          17.070003509521484,
          14.022244453430176,
          69.39657592773438,
          62.13987731933594,
          63.02634811401367,
          -64.19129180908203,
          21.397008895874023,
          24.139820098876953,
          18.914846420288086,
          29.545246124267578,
          60.61445617675781,
          45.497764587402344,
          51.9410400390625,
          47.734134674072266,
          31.525014877319336,
          31.634164810180664,
          45.81605911254883,
          77.36412048339844,
          -15.598772048950195,
          20.096059799194336,
          -64.11575317382812,
          11.134183883666992,
          9.902520179748535,
          31.510038375854492,
          41.70608139038086,
          28.42451286315918,
          29.322341918945312,
          12.80550765991211,
          69.39657592773438,
          72.53104400634766,
          63.02634811401367,
          -64.19129180908203,
          13.983743667602539,
          21.552326202392578,
          13.983743667602539,
          21.552326202392578,
          18.914846420288086,
          29.545246124267578,
          56.10425567626953,
          56.61471939086914,
          51.9410400390625,
          45.60545349121094,
          42.93598556518555,
          31.634164810180664,
          45.81605911254883,
          77.36412048339844,
          -12.749139785766602,
          20.096059799194336,
          -64.11575317382812,
          15.998859405517578,
          9.902520179748535,
          31.510038375854492,
          41.70608139038086,
          28.42451286315918,
          17.070003509521484,
          14.022244453430176,
          69.39657592773438,
          72.53104400634766,
          63.02634811401367,
          -64.19129180908203,
          21.397008895874023,
          34.54022979736328,
          16.12148666381836,
          29.545246124267578,
          56.10425567626953,
          46.090476989746094,
          51.9410400390625,
          47.734134674072266,
          31.525014877319336,
          31.634164810180664,
          45.81605911254883,
          77.36412048339844,
          -15.598772048950195,
          14.140406608581543,
          -55.13516616821289,
          15.998859405517578,
          17.95537757873535,
          31.510038375854492,
          41.70608139038086,
          28.42451286315918,
          17.070003509521484,
          14.022244453430176,
          69.39657592773438,
          72.53104400634766,
          63.02634811401367,
          -64.19129180908203,
          21.397008895874023,
          24.139820098876953,
          16.12148666381836,
          29.545246124267578,
          60.61445617675781,
          45.497764587402344,
          51.9410400390625,
          45.60545349121094,
          42.93598556518555,
          31.634164810180664,
          45.81605911254883,
          77.36412048339844,
          -15.598772048950195,
          14.140406608581543,
          -55.13516616821289,
          11.134183883666992,
          17.95537757873535,
          31.510038375854492,
          41.70608139038086,
          28.42451286315918,
          17.070003509521484,
          12.80550765991211,
          69.39657592773438,
          72.53104400634766,
          63.02634811401367,
          -64.19129180908203,
          19.738563537597656,
          19.738563537597656,
          24.139820098876953,
          16.12148666381836,
          29.545246124267578,
          55.767066955566406,
          42.698917388916016,
          51.9410400390625,
          45.60545349121094,
          42.93598556518555,
          33.316402435302734,
          45.81605911254883,
          77.36412048339844,
          -12.749139785766602,
          20.096059799194336,
          -55.13516616821289,
          15.998859405517578,
          9.902520179748535,
          31.510038375854492,
          41.70608139038086,
          28.42451286315918,
          29.322341918945312,
          14.022244453430176
         ],
         "y": [
          -16.116994857788086,
          4.029017448425293,
          21.840829849243164,
          13.740392684936523,
          -53.740909576416016,
          -11.738478660583496,
          13.41494083404541,
          43.934486389160156,
          -55.560665130615234,
          26.232688903808594,
          50.02494430541992,
          -30.75424575805664,
          -2.6303813457489014,
          5.100858211517334,
          1.3820457458496094,
          -18.76130485534668,
          -66.67867279052734,
          -7.84585428237915,
          -18.335407257080078,
          35.137550354003906,
          59.59927749633789,
          48.02886962890625,
          -37.608028411865234,
          -26.81792640686035,
          -59.691497802734375,
          -42.039512634277344,
          -12.371265411376953,
          4.39396333694458,
          19.652780532836914,
          26.9132080078125,
          -53.740909576416016,
          -2.671678066253662,
          22.890825271606445,
          43.934486389160156,
          -49.70917892456055,
          39.08036804199219,
          50.02494430541992,
          -30.75424575805664,
          -9.067691802978516,
          5.100858211517334,
          1.3820457458496094,
          -18.76130485534668,
          -66.67867279052734,
          5.32334041595459,
          -10.74520492553711,
          21.799829483032227,
          59.59927749633789,
          48.02886962890625,
          -37.608028411865234,
          -26.81792640686035,
          -59.691497802734375,
          -42.039512634277344,
          -12.371265411376953,
          4.39396333694458,
          19.652780532836914,
          26.9132080078125,
          -53.740909576416016,
          -17.649261474609375,
          17.610422134399414,
          43.934486389160156,
          -43.03792953491211,
          33.7642707824707,
          50.02494430541992,
          -22.07301902770996,
          -9.067691802978516,
          -1.139860987663269,
          1.3820457458496094,
          -18.76130485534668,
          -66.67867279052734,
          -7.84585428237915,
          -18.335407257080078,
          21.799829483032227,
          62.770179748535156,
          48.02886962890625,
          -37.608028411865234,
          -26.81792640686035,
          -54.07347106933594,
          -56.989933013916016,
          -12.371265411376953,
          4.39396333694458,
          19.652780532836914,
          26.9132080078125,
          -53.740909576416016,
          -10.460639953613281,
          17.610422134399414,
          43.934486389160156,
          -55.560665130615234,
          26.926013946533203,
          50.02494430541992,
          -20.72272491455078,
          -9.067691802978516,
          -1.139860987663269,
          1.3820457458496094,
          -18.76130485534668,
          -66.67867279052734,
          5.32334041595459,
          -18.335407257080078,
          35.137550354003906,
          59.59927749633789,
          48.02886962890625,
          -37.608028411865234,
          -26.81792640686035,
          -59.691497802734375,
          -42.039512634277344,
          -12.371265411376953,
          14.203714370727539,
          19.652780532836914,
          26.9132080078125,
          -41.26783752441406,
          -11.738478660583496,
          -41.26783752441406,
          -11.738478660583496,
          17.610422134399414,
          43.934486389160156,
          -42.95799255371094,
          33.7642707824707,
          50.02494430541992,
          -30.75424575805664,
          -2.6303813457489014,
          -1.139860987663269,
          1.3820457458496094,
          -18.76130485534668,
          -66.46212768554688,
          5.32334041595459,
          -18.335407257080078,
          21.799829483032227,
          59.59927749633789,
          48.02886962890625,
          -37.608028411865234,
          -26.81792640686035,
          -54.07347106933594,
          -56.989933013916016,
          -12.371265411376953,
          14.203714370727539,
          19.652780532836914,
          26.9132080078125,
          -53.740909576416016,
          -17.649261474609375,
          22.890825271606445,
          43.934486389160156,
          -42.95799255371094,
          26.232688903808594,
          50.02494430541992,
          -20.72272491455078,
          -9.067691802978516,
          -1.139860987663269,
          1.3820457458496094,
          -18.76130485534668,
          -66.67867279052734,
          -7.84585428237915,
          -10.74520492553711,
          21.799829483032227,
          62.770179748535156,
          48.02886962890625,
          -37.608028411865234,
          -26.81792640686035,
          -54.07347106933594,
          -56.989933013916016,
          -12.371265411376953,
          14.203714370727539,
          19.652780532836914,
          26.9132080078125,
          -53.740909576416016,
          -10.460639953613281,
          22.890825271606445,
          43.934486389160156,
          -55.560665130615234,
          26.926013946533203,
          50.02494430541992,
          -30.75424575805664,
          -2.6303813457489014,
          -1.139860987663269,
          1.3820457458496094,
          -18.76130485534668,
          -66.67867279052734,
          -7.84585428237915,
          -10.74520492553711,
          35.137550354003906,
          62.770179748535156,
          48.02886962890625,
          -37.608028411865234,
          -26.81792640686035,
          -54.07347106933594,
          -42.039512634277344,
          -12.371265411376953,
          14.203714370727539,
          19.652780532836914,
          26.9132080078125,
          -40.21638488769531,
          -40.21638488769531,
          -10.460639953613281,
          22.890825271606445,
          43.934486389160156,
          -55.6459846496582,
          39.08036804199219,
          50.02494430541992,
          -30.75424575805664,
          -2.6303813457489014,
          5.100858211517334,
          1.3820457458496094,
          -18.76130485534668,
          -66.46212768554688,
          5.32334041595459,
          -10.74520492553711,
          21.799829483032227,
          59.59927749633789,
          48.02886962890625,
          -37.608028411865234,
          -26.81792640686035,
          -59.691497802734375,
          -56.989933013916016
         ],
         "z": [
          -10.788354873657227,
          -4.213206768035889,
          -16.01167106628418,
          0.8777807950973511,
          45.40243911743164,
          65.88113403320312,
          58.35867691040039,
          46.8886604309082,
          -6.176314353942871,
          24.368629455566406,
          -4.627763271331787,
          25.28818702697754,
          -41.127079010009766,
          -10.776877403259277,
          35.22293472290039,
          21.204069137573242,
          7.332049369812012,
          -63.800384521484375,
          0.49315470457077026,
          20.18989372253418,
          12.433582305908203,
          -32.46003723144531,
          -31.386707305908203,
          -6.727940082550049,
          -5.155799388885498,
          -25.860055923461914,
          -21.397153854370117,
          1.0726230144500732,
          -22.59821891784668,
          0.9073668122291565,
          45.40243911743164,
          61.053531646728516,
          64.72021484375,
          46.8886604309082,
          5.297875881195068,
          17.801977157592773,
          -4.627763271331787,
          25.28818702697754,
          -33.938114166259766,
          -10.776877403259277,
          35.22293472290039,
          21.204069137573242,
          7.332049369812012,
          -67.8035659790039,
          -8.877314567565918,
          15.628182411193848,
          12.433582305908203,
          -32.46003723144531,
          -31.386707305908203,
          -6.727940082550049,
          -5.155799388885498,
          -25.860055923461914,
          -21.397153854370117,
          1.0726230144500732,
          -22.59821891784668,
          0.9073668122291565,
          45.40243911743164,
          59.65509796142578,
          50.94583511352539,
          46.8886604309082,
          -7.502213954925537,
          17.458860397338867,
          -4.627763271331787,
          20.953506469726562,
          -33.938114166259766,
          2.6449995040893555,
          35.22293472290039,
          21.204069137573242,
          7.332049369812012,
          -63.800384521484375,
          0.49315470457077026,
          15.628182411193848,
          0.07150350511074066,
          -32.46003723144531,
          -31.386707305908203,
          -6.727940082550049,
          1.5313392877578735,
          -27.22901725769043,
          -21.397153854370117,
          1.0726230144500732,
          -22.59821891784668,
          0.9073668122291565,
          45.40243911743164,
          50.823848724365234,
          50.94583511352539,
          46.8886604309082,
          -6.176314353942871,
          9.596038818359375,
          -4.627763271331787,
          14.392845153808594,
          -33.938114166259766,
          2.6449995040893555,
          35.22293472290039,
          21.204069137573242,
          7.332049369812012,
          -67.8035659790039,
          0.49315470457077026,
          20.18989372253418,
          12.433582305908203,
          -32.46003723144531,
          -31.386707305908203,
          -6.727940082550049,
          -5.155799388885498,
          -25.860055923461914,
          -21.397153854370117,
          5.669421195983887,
          -22.59821891784668,
          0.9073668122291565,
          52.11094665527344,
          65.88113403320312,
          52.11094665527344,
          65.88113403320312,
          50.94583511352539,
          46.8886604309082,
          0.43223264813423157,
          17.458860397338867,
          -4.627763271331787,
          25.28818702697754,
          -41.127079010009766,
          2.6449995040893555,
          35.22293472290039,
          21.204069137573242,
          22.52828598022461,
          -67.8035659790039,
          0.49315470457077026,
          15.628182411193848,
          12.433582305908203,
          -32.46003723144531,
          -31.386707305908203,
          -6.727940082550049,
          1.5313392877578735,
          -27.22901725769043,
          -21.397153854370117,
          5.669421195983887,
          -22.59821891784668,
          0.9073668122291565,
          45.40243911743164,
          59.65509796142578,
          64.72021484375,
          46.8886604309082,
          0.43223264813423157,
          24.368629455566406,
          -4.627763271331787,
          14.392845153808594,
          -33.938114166259766,
          2.6449995040893555,
          35.22293472290039,
          21.204069137573242,
          7.332049369812012,
          -63.800384521484375,
          -8.877314567565918,
          15.628182411193848,
          0.07150350511074066,
          -32.46003723144531,
          -31.386707305908203,
          -6.727940082550049,
          1.5313392877578735,
          -27.22901725769043,
          -21.397153854370117,
          5.669421195983887,
          -22.59821891784668,
          0.9073668122291565,
          45.40243911743164,
          50.823848724365234,
          64.72021484375,
          46.8886604309082,
          -6.176314353942871,
          9.596038818359375,
          -4.627763271331787,
          25.28818702697754,
          -41.127079010009766,
          2.6449995040893555,
          35.22293472290039,
          21.204069137573242,
          7.332049369812012,
          -63.800384521484375,
          -8.877314567565918,
          20.18989372253418,
          0.07150350511074066,
          -32.46003723144531,
          -31.386707305908203,
          -6.727940082550049,
          1.5313392877578735,
          -25.860055923461914,
          -21.397153854370117,
          5.669421195983887,
          -22.59821891784668,
          0.9073668122291565,
          37.459903717041016,
          37.459903717041016,
          50.823848724365234,
          64.72021484375,
          46.8886604309082,
          7.885997295379639,
          17.801977157592773,
          -4.627763271331787,
          25.28818702697754,
          -41.127079010009766,
          -10.776877403259277,
          35.22293472290039,
          21.204069137573242,
          22.52828598022461,
          -67.8035659790039,
          -8.877314567565918,
          15.628182411193848,
          12.433582305908203,
          -32.46003723144531,
          -31.386707305908203,
          -6.727940082550049,
          -5.155799388885498,
          -27.22901725769043
         ]
        },
        {
         "hovertemplate": "Label=Code<br>Dim1=%{x}<br>Dim2=%{y}<br>Dim3=%{z}<extra></extra>",
         "legendgroup": "Code",
         "marker": {
          "color": "#EF553B",
          "symbol": "circle"
         },
         "mode": "markers",
         "name": "Code",
         "scene": "scene",
         "showlegend": true,
         "type": "scatter3d",
         "x": [
          -44.00979995727539,
          -51.3743782043457,
          -47.189632415771484,
          -85.33477020263672,
          -15.298335075378418,
          -16.307559967041016,
          -29.918071746826172,
          -20.984554290771484,
          -28.006126403808594,
          -39.428218841552734,
          -31.290142059326172,
          -11.801412582397461,
          -9.380131721496582,
          4.395984649658203,
          -13.315340995788574,
          -45.01738739013672,
          -60.82263946533203,
          -60.16934585571289,
          -63.63782501220703,
          16.673561096191406,
          1.9518778324127197,
          8.564349174499512,
          -13.042418479919434,
          -27.68058204650879,
          -17.718921661376953,
          -35.49201202392578,
          -44.00979995727539,
          -51.3743782043457,
          -47.189632415771484,
          -85.33477020263672,
          -15.298335075378418,
          -16.307559967041016,
          -22.62766456604004,
          -20.984554290771484,
          -28.006126403808594,
          -39.428218841552734,
          -26.226917266845703,
          -21.59989356994629,
          -1.832521915435791,
          4.395984649658203,
          -20.44976043701172,
          -45.01738739013672,
          -62.4018440246582,
          -60.16934585571289,
          -63.63782501220703,
          -0.9823167324066162,
          1.9518778324127197,
          9.740799903869629,
          -12.634662628173828,
          -27.68058204650879,
          -7.940641403198242,
          -32.901145935058594,
          -43.4123420715332,
          -51.3743782043457,
          -55.062625885009766,
          -85.33477020263672,
          -15.298335075378418,
          -24.250699996948242,
          -29.918071746826172,
          -9.048952102661133,
          -28.006126403808594,
          -43.36764907836914,
          -37.22663879394531,
          -6.936025619506836,
          -5.2889275550842285,
          2.3402907848358154,
          -18.69205093383789,
          -45.01738739013672,
          -52.76988983154297,
          -60.16934585571289,
          -63.63782501220703,
          8.359003067016602,
          1.9518778324127197,
          9.740799903869629,
          -12.634662628173828,
          -27.68058204650879,
          -7.940641403198242,
          -32.2573356628418,
          -40.45332717895508,
          -42.625953674316406,
          -53.35880661010742,
          -85.33477020263672,
          -15.298335075378418,
          -16.23188018798828,
          -29.918071746826172,
          -9.048952102661133,
          -28.006126403808594,
          -43.36764907836914,
          -37.22663879394531,
          -18.805959701538086,
          -15.611349105834961,
          2.3402907848358154,
          -5.312195301055908,
          -45.01738739013672,
          -52.76988983154297,
          -60.16934585571289,
          -63.63782501220703,
          4.214226722717285,
          1.9518778324127197,
          9.740799903869629,
          -12.61609172821045,
          -27.68058204650879,
          -7.940641403198242,
          -20.259742736816406,
          -40.45332717895508,
          -42.625953674316406,
          -62.14915084838867,
          -85.33477020263672,
          -14.1177396774292,
          -31.45414161682129,
          -15.298335075378418,
          -22.605539321899414,
          -22.62766456604004,
          -9.048952102661133,
          -28.006126403808594,
          -43.36764907836914,
          -21.543119430541992,
          -13.652761459350586,
          -15.611349105834961,
          14.858792304992676,
          -10.28478717803955,
          -45.01738739013672,
          -63.44999313354492,
          -60.16934585571289,
          -63.63782501220703,
          14.08975887298584,
          1.9518778324127197,
          9.740799903869629,
          -12.634662628173828,
          -27.68058204650879,
          -5.419041633605957,
          -23.169565200805664,
          -43.4123420715332,
          -51.3743782043457,
          -53.35880661010742,
          -85.33477020263672,
          -15.298335075378418,
          -30.74115562438965,
          -22.62766456604004,
          -9.048952102661133,
          -28.006126403808594,
          -43.36764907836914,
          -32.90877914428711,
          -6.936025619506836,
          -15.611349105834961,
          2.3402907848358154,
          -26.804241180419922,
          -45.01738739013672,
          -52.76988983154297,
          -60.16934585571289,
          -63.63782501220703,
          8.359003067016602,
          1.9518778324127197,
          9.740799903869629,
          -12.634662628173828,
          -27.68058204650879,
          -5.419041633605957,
          -23.57883071899414,
          -43.4123420715332,
          -42.625953674316406,
          -62.14915084838867,
          -85.33477020263672,
          -15.298335075378418,
          -24.15438461303711,
          -29.918071746826172,
          -9.048952102661133,
          -28.006126403808594,
          -43.36764907836914,
          -27.11269760131836,
          -6.936025619506836,
          -5.2889275550842285,
          2.3402907848358154,
          -23.194141387939453,
          -45.01738739013672,
          -68.75415802001953,
          -60.16934585571289,
          -63.63782501220703,
          4.214226722717285,
          1.9518778324127197,
          9.740799903869629,
          -12.634662628173828,
          -27.68058204650879,
          -5.419041633605957,
          -32.901145935058594,
          -43.4123420715332,
          -42.625953674316406,
          -55.062625885009766,
          -85.33477020263672,
          -14.1177396774292,
          -15.298335075378418,
          -22.605539321899414,
          -29.918071746826172,
          -9.048952102661133,
          -28.006126403808594,
          -43.36764907836914,
          -21.543119430541992,
          -16.98537254333496,
          -18.988027572631836,
          12.262621879577637,
          -13.10877799987793,
          -45.01738739013672,
          -63.44999313354492,
          -60.16934585571289,
          -63.63782501220703,
          -0.948072612285614,
          9.315476417541504,
          9.740799903869629,
          -12.634662628173828,
          -36.32825469970703,
          -7.940641403198242,
          -32.901145935058594
         ],
         "y": [
          31.7155818939209,
          -8.122857093811035,
          8.834749221801758,
          7.264976978302002,
          55.33650207519531,
          33.542091369628906,
          -40.76038360595703,
          -29.931472778320312,
          -15.144031524658203,
          -39.41130447387695,
          -5.747139930725098,
          8.66736888885498,
          -32.379066467285156,
          -12.396525382995605,
          -5.805534839630127,
          62.08946990966797,
          1.9353281259536743,
          -23.291292190551758,
          -32.750980377197266,
          38.376564025878906,
          9.741307258605957,
          35.65620803833008,
          42.496788024902344,
          -1.1868548393249512,
          -39.646305084228516,
          31.880422592163086,
          31.7155818939209,
          -8.122857093811035,
          8.834749221801758,
          7.264976978302002,
          55.33650207519531,
          33.542091369628906,
          -53.310638427734375,
          -29.931472778320312,
          -15.144031524658203,
          -39.41130447387695,
          -21.519195556640625,
          7.887009143829346,
          -31.971229553222656,
          -12.396525382995605,
          5.63413143157959,
          62.08946990966797,
          -0.7240008115768433,
          -23.291292190551758,
          -32.750980377197266,
          32.838592529296875,
          9.741307258605957,
          22.83305549621582,
          39.75421142578125,
          -1.1868548393249512,
          -31.651683807373047,
          37.310943603515625,
          41.52890396118164,
          -8.122857093811035,
          21.363975524902344,
          7.264976978302002,
          55.33650207519531,
          42.467708587646484,
          -40.76038360595703,
          -36.49353790283203,
          -15.144031524658203,
          -45.43320083618164,
          -15.560674667358398,
          11.961612701416016,
          -19.345874786376953,
          -11.263978004455566,
          -12.221579551696777,
          62.08946990966797,
          -0.2670096158981323,
          -23.291292190551758,
          -32.750980377197266,
          42.788856506347656,
          9.741307258605957,
          22.83305549621582,
          39.75421142578125,
          -1.1868548393249512,
          -31.651683807373047,
          23.093090057373047,
          27.18462371826172,
          0.950267493724823,
          17.015701293945312,
          7.264976978302002,
          55.33650207519531,
          32.05787658691406,
          -40.76038360595703,
          -36.49353790283203,
          -15.144031524658203,
          -45.43320083618164,
          -15.560674667358398,
          14.850936889648438,
          -27.623659133911133,
          -11.263978004455566,
          -8.765865325927734,
          62.08946990966797,
          -0.2670096158981323,
          -23.291292190551758,
          -32.750980377197266,
          31.63105010986328,
          9.741307258605957,
          22.83305549621582,
          53.772029876708984,
          -1.1868548393249512,
          -31.651683807373047,
          31.05665397644043,
          27.18462371826172,
          0.950267493724823,
          8.753900527954102,
          7.264976978302002,
          62.78085708618164,
          33.78517532348633,
          55.33650207519531,
          21.544048309326172,
          -53.310638427734375,
          -36.49353790283203,
          -15.144031524658203,
          -45.43320083618164,
          -10.309530258178711,
          1.2623941898345947,
          -27.623659133911133,
          -6.581940174102783,
          4.2452850341796875,
          62.08946990966797,
          10.307929992675781,
          -23.291292190551758,
          -32.750980377197266,
          29.63665771484375,
          9.741307258605957,
          22.83305549621582,
          39.75421142578125,
          -1.1868548393249512,
          -34.41596603393555,
          27.39524269104004,
          41.52890396118164,
          -8.122857093811035,
          17.015701293945312,
          7.264976978302002,
          55.33650207519531,
          31.286344528198242,
          -53.310638427734375,
          -36.49353790283203,
          -15.144031524658203,
          -45.43320083618164,
          -3.3536794185638428,
          11.961612701416016,
          -27.623659133911133,
          -11.263978004455566,
          -6.735838413238525,
          62.08946990966797,
          -0.2670096158981323,
          -23.291292190551758,
          -32.750980377197266,
          42.788856506347656,
          9.741307258605957,
          22.83305549621582,
          39.75421142578125,
          -1.1868548393249512,
          -34.41596603393555,
          40.865501403808594,
          41.52890396118164,
          0.950267493724823,
          8.753900527954102,
          7.264976978302002,
          55.33650207519531,
          24.750591278076172,
          -40.76038360595703,
          -36.49353790283203,
          -15.144031524658203,
          -45.43320083618164,
          -21.108257293701172,
          11.961612701416016,
          -19.345874786376953,
          -11.263978004455566,
          0.7781655788421631,
          62.08946990966797,
          -3.0308165550231934,
          -23.291292190551758,
          -32.750980377197266,
          31.63105010986328,
          9.741307258605957,
          22.83305549621582,
          39.75421142578125,
          -1.1868548393249512,
          -34.41596603393555,
          37.310943603515625,
          41.52890396118164,
          0.950267493724823,
          21.363975524902344,
          7.264976978302002,
          62.78085708618164,
          55.33650207519531,
          21.544048309326172,
          -40.76038360595703,
          -36.49353790283203,
          -15.144031524658203,
          -45.43320083618164,
          -10.309530258178711,
          20.437671661376953,
          -21.75496482849121,
          -21.153284072875977,
          -3.2026100158691406,
          62.08946990966797,
          10.307929992675781,
          -23.291292190551758,
          -32.750980377197266,
          44.31454086303711,
          1.9641163349151611,
          22.83305549621582,
          39.75421142578125,
          5.950264930725098,
          -31.651683807373047,
          37.310943603515625
         ],
         "z": [
          40.07632064819336,
          -48.85691452026367,
          -33.17706298828125,
          -2.0491697788238525,
          -27.43363380432129,
          -41.38252639770508,
          -32.049354553222656,
          -58.06303405761719,
          23.697193145751953,
          -1.4407713413238525,
          49.2606086730957,
          17.752538681030273,
          -16.65101432800293,
          29.692176818847656,
          -26.68166732788086,
          4.4235920906066895,
          23.3408260345459,
          32.81105422973633,
          -24.37399673461914,
          -5.3651442527771,
          -13.165574073791504,
          -49.686336517333984,
          30.89345359802246,
          0.7168061137199402,
          23.176239013671875,
          3.2039847373962402,
          40.07632064819336,
          -48.85691452026367,
          -33.17706298828125,
          -2.0491697788238525,
          -27.43363380432129,
          -41.38252639770508,
          -28.30199432373047,
          -58.06303405761719,
          23.697193145751953,
          -1.4407713413238525,
          50.76322937011719,
          27.488431930541992,
          -4.928278923034668,
          29.692176818847656,
          -26.65545654296875,
          4.4235920906066895,
          46.62806701660156,
          32.81105422973633,
          -24.37399673461914,
          -18.79762077331543,
          -13.165574073791504,
          -42.09516143798828,
          45.66005325317383,
          0.7168061137199402,
          31.158466339111328,
          -9.850931167602539,
          28.813013076782227,
          -48.85691452026367,
          -30.726598739624023,
          -2.0491697788238525,
          -27.43363380432129,
          -49.396453857421875,
          -32.049354553222656,
          -51.60269546508789,
          23.697193145751953,
          11.783160209655762,
          57.69399642944336,
          30.756240844726562,
          -10.955215454101562,
          14.70339584350586,
          -37.72397232055664,
          4.4235920906066895,
          35.40715408325195,
          32.81105422973633,
          -24.37399673461914,
          -15.926849365234375,
          -13.165574073791504,
          -42.09516143798828,
          45.66005325317383,
          0.7168061137199402,
          31.158466339111328,
          -8.719818115234375,
          26.300216674804688,
          -57.497318267822266,
          -44.92274475097656,
          -2.0491697788238525,
          -27.43363380432129,
          -56.038883209228516,
          -32.049354553222656,
          -51.60269546508789,
          23.697193145751953,
          11.783160209655762,
          57.69399642944336,
          38.8005256652832,
          -4.136485576629639,
          14.70339584350586,
          -36.803401947021484,
          4.4235920906066895,
          35.40715408325195,
          32.81105422973633,
          -24.37399673461914,
          -5.744586944580078,
          -13.165574073791504,
          -42.09516143798828,
          40.231197357177734,
          0.7168061137199402,
          31.158466339111328,
          -11.300710678100586,
          26.300216674804688,
          -57.497318267822266,
          -35.747032165527344,
          -2.0491697788238525,
          -13.241899490356445,
          -40.535972595214844,
          -27.43363380432129,
          -47.54689407348633,
          -28.30199432373047,
          -51.60269546508789,
          23.697193145751953,
          11.783160209655762,
          58.65584945678711,
          37.00504684448242,
          -4.136485576629639,
          21.380828857421875,
          -35.77365493774414,
          4.4235920906066895,
          36.041221618652344,
          32.81105422973633,
          -24.37399673461914,
          -16.269329071044922,
          -13.165574073791504,
          -42.09516143798828,
          45.66005325317383,
          0.7168061137199402,
          16.545095443725586,
          1.151859998703003,
          28.813013076782227,
          -48.85691452026367,
          -44.92274475097656,
          -2.0491697788238525,
          -27.43363380432129,
          -54.27656936645508,
          -28.30199432373047,
          -51.60269546508789,
          23.697193145751953,
          11.783160209655762,
          64.0615234375,
          30.756240844726562,
          -4.136485576629639,
          14.70339584350586,
          -28.306062698364258,
          4.4235920906066895,
          35.40715408325195,
          32.81105422973633,
          -24.37399673461914,
          -15.926849365234375,
          -13.165574073791504,
          -42.09516143798828,
          45.66005325317383,
          0.7168061137199402,
          16.545095443725586,
          0.7737767100334167,
          28.813013076782227,
          -57.497318267822266,
          -35.747032165527344,
          -2.0491697788238525,
          -27.43363380432129,
          -33.12836456298828,
          -32.049354553222656,
          -51.60269546508789,
          23.697193145751953,
          11.783160209655762,
          66.08280944824219,
          30.756240844726562,
          -10.955215454101562,
          14.70339584350586,
          -39.0480842590332,
          4.4235920906066895,
          33.9334831237793,
          32.81105422973633,
          -24.37399673461914,
          -5.744586944580078,
          -13.165574073791504,
          -42.09516143798828,
          45.66005325317383,
          0.7168061137199402,
          16.545095443725586,
          -9.850931167602539,
          28.813013076782227,
          -57.497318267822266,
          -30.726598739624023,
          -2.0491697788238525,
          -13.241899490356445,
          -27.43363380432129,
          -47.54689407348633,
          -32.049354553222656,
          -51.60269546508789,
          23.697193145751953,
          11.783160209655762,
          58.65584945678711,
          24.34519386291504,
          -17.09368896484375,
          20.24201774597168,
          -46.84605026245117,
          4.4235920906066895,
          36.041221618652344,
          32.81105422973633,
          -24.37399673461914,
          -5.278550624847412,
          -23.578481674194336,
          -42.09516143798828,
          45.66005325317383,
          11.015405654907227,
          31.158466339111328,
          -9.850931167602539
         ]
        }
       ],
       "layout": {
        "autosize": true,
        "legend": {
         "title": {
          "text": "Label"
         },
         "tracegroupgap": 0
        },
        "scene": {
         "aspectmode": "auto",
         "aspectratio": {
          "x": 1.1515945243319299,
          "y": 0.9163239226768758,
          "z": 0.9476574558962223
         },
         "domain": {
          "x": [
           0,
           1
          ],
          "y": [
           0,
           1
          ]
         },
         "xaxis": {
          "title": {
           "text": "Dim1"
          },
          "type": "linear"
         },
         "yaxis": {
          "title": {
           "text": "Dim2"
          },
          "type": "linear"
         },
         "zaxis": {
          "title": {
           "text": "Dim3"
          },
          "type": "linear"
         }
        },
        "template": {
         "data": {
          "bar": [
           {
            "error_x": {
             "color": "#2a3f5f"
            },
            "error_y": {
             "color": "#2a3f5f"
            },
            "marker": {
             "line": {
              "color": "#E5ECF6",
              "width": 0.5
             },
             "pattern": {
              "fillmode": "overlay",
              "size": 10,
              "solidity": 0.2
             }
            },
            "type": "bar"
           }
          ],
          "barpolar": [
           {
            "marker": {
             "line": {
              "color": "#E5ECF6",
              "width": 0.5
             },
             "pattern": {
              "fillmode": "overlay",
              "size": 10,
              "solidity": 0.2
             }
            },
            "type": "barpolar"
           }
          ],
          "carpet": [
           {
            "aaxis": {
             "endlinecolor": "#2a3f5f",
             "gridcolor": "white",
             "linecolor": "white",
             "minorgridcolor": "white",
             "startlinecolor": "#2a3f5f"
            },
            "baxis": {
             "endlinecolor": "#2a3f5f",
             "gridcolor": "white",
             "linecolor": "white",
             "minorgridcolor": "white",
             "startlinecolor": "#2a3f5f"
            },
            "type": "carpet"
           }
          ],
          "choropleth": [
           {
            "colorbar": {
             "outlinewidth": 0,
             "ticks": ""
            },
            "type": "choropleth"
           }
          ],
          "contour": [
           {
            "colorbar": {
             "outlinewidth": 0,
             "ticks": ""
            },
            "colorscale": [
             [
              0,
              "#0d0887"
             ],
             [
              0.1111111111111111,
              "#46039f"
             ],
             [
              0.2222222222222222,
              "#7201a8"
             ],
             [
              0.3333333333333333,
              "#9c179e"
             ],
             [
              0.4444444444444444,
              "#bd3786"
             ],
             [
              0.5555555555555556,
              "#d8576b"
             ],
             [
              0.6666666666666666,
              "#ed7953"
             ],
             [
              0.7777777777777778,
              "#fb9f3a"
             ],
             [
              0.8888888888888888,
              "#fdca26"
             ],
             [
              1,
              "#f0f921"
             ]
            ],
            "type": "contour"
           }
          ],
          "contourcarpet": [
           {
            "colorbar": {
             "outlinewidth": 0,
             "ticks": ""
            },
            "type": "contourcarpet"
           }
          ],
          "heatmap": [
           {
            "colorbar": {
             "outlinewidth": 0,
             "ticks": ""
            },
            "colorscale": [
             [
              0,
              "#0d0887"
             ],
             [
              0.1111111111111111,
              "#46039f"
             ],
             [
              0.2222222222222222,
              "#7201a8"
             ],
             [
              0.3333333333333333,
              "#9c179e"
             ],
             [
              0.4444444444444444,
              "#bd3786"
             ],
             [
              0.5555555555555556,
              "#d8576b"
             ],
             [
              0.6666666666666666,
              "#ed7953"
             ],
             [
              0.7777777777777778,
              "#fb9f3a"
             ],
             [
              0.8888888888888888,
              "#fdca26"
             ],
             [
              1,
              "#f0f921"
             ]
            ],
            "type": "heatmap"
           }
          ],
          "heatmapgl": [
           {
            "colorbar": {
             "outlinewidth": 0,
             "ticks": ""
            },
            "colorscale": [
             [
              0,
              "#0d0887"
             ],
             [
              0.1111111111111111,
              "#46039f"
             ],
             [
              0.2222222222222222,
              "#7201a8"
             ],
             [
              0.3333333333333333,
              "#9c179e"
             ],
             [
              0.4444444444444444,
              "#bd3786"
             ],
             [
              0.5555555555555556,
              "#d8576b"
             ],
             [
              0.6666666666666666,
              "#ed7953"
             ],
             [
              0.7777777777777778,
              "#fb9f3a"
             ],
             [
              0.8888888888888888,
              "#fdca26"
             ],
             [
              1,
              "#f0f921"
             ]
            ],
            "type": "heatmapgl"
           }
          ],
          "histogram": [
           {
            "marker": {
             "pattern": {
              "fillmode": "overlay",
              "size": 10,
              "solidity": 0.2
             }
            },
            "type": "histogram"
           }
          ],
          "histogram2d": [
           {
            "colorbar": {
             "outlinewidth": 0,
             "ticks": ""
            },
            "colorscale": [
             [
              0,
              "#0d0887"
             ],
             [
              0.1111111111111111,
              "#46039f"
             ],
             [
              0.2222222222222222,
              "#7201a8"
             ],
             [
              0.3333333333333333,
              "#9c179e"
             ],
             [
              0.4444444444444444,
              "#bd3786"
             ],
             [
              0.5555555555555556,
              "#d8576b"
             ],
             [
              0.6666666666666666,
              "#ed7953"
             ],
             [
              0.7777777777777778,
              "#fb9f3a"
             ],
             [
              0.8888888888888888,
              "#fdca26"
             ],
             [
              1,
              "#f0f921"
             ]
            ],
            "type": "histogram2d"
           }
          ],
          "histogram2dcontour": [
           {
            "colorbar": {
             "outlinewidth": 0,
             "ticks": ""
            },
            "colorscale": [
             [
              0,
              "#0d0887"
             ],
             [
              0.1111111111111111,
              "#46039f"
             ],
             [
              0.2222222222222222,
              "#7201a8"
             ],
             [
              0.3333333333333333,
              "#9c179e"
             ],
             [
              0.4444444444444444,
              "#bd3786"
             ],
             [
              0.5555555555555556,
              "#d8576b"
             ],
             [
              0.6666666666666666,
              "#ed7953"
             ],
             [
              0.7777777777777778,
              "#fb9f3a"
             ],
             [
              0.8888888888888888,
              "#fdca26"
             ],
             [
              1,
              "#f0f921"
             ]
            ],
            "type": "histogram2dcontour"
           }
          ],
          "mesh3d": [
           {
            "colorbar": {
             "outlinewidth": 0,
             "ticks": ""
            },
            "type": "mesh3d"
           }
          ],
          "parcoords": [
           {
            "line": {
             "colorbar": {
              "outlinewidth": 0,
              "ticks": ""
             }
            },
            "type": "parcoords"
           }
          ],
          "pie": [
           {
            "automargin": true,
            "type": "pie"
           }
          ],
          "scatter": [
           {
            "fillpattern": {
             "fillmode": "overlay",
             "size": 10,
             "solidity": 0.2
            },
            "type": "scatter"
           }
          ],
          "scatter3d": [
           {
            "line": {
             "colorbar": {
              "outlinewidth": 0,
              "ticks": ""
             }
            },
            "marker": {
             "colorbar": {
              "outlinewidth": 0,
              "ticks": ""
             }
            },
            "type": "scatter3d"
           }
          ],
          "scattercarpet": [
           {
            "marker": {
             "colorbar": {
              "outlinewidth": 0,
              "ticks": ""
             }
            },
            "type": "scattercarpet"
           }
          ],
          "scattergeo": [
           {
            "marker": {
             "colorbar": {
              "outlinewidth": 0,
              "ticks": ""
             }
            },
            "type": "scattergeo"
           }
          ],
          "scattergl": [
           {
            "marker": {
             "colorbar": {
              "outlinewidth": 0,
              "ticks": ""
             }
            },
            "type": "scattergl"
           }
          ],
          "scattermapbox": [
           {
            "marker": {
             "colorbar": {
              "outlinewidth": 0,
              "ticks": ""
             }
            },
            "type": "scattermapbox"
           }
          ],
          "scatterpolar": [
           {
            "marker": {
             "colorbar": {
              "outlinewidth": 0,
              "ticks": ""
             }
            },
            "type": "scatterpolar"
           }
          ],
          "scatterpolargl": [
           {
            "marker": {
             "colorbar": {
              "outlinewidth": 0,
              "ticks": ""
             }
            },
            "type": "scatterpolargl"
           }
          ],
          "scatterternary": [
           {
            "marker": {
             "colorbar": {
              "outlinewidth": 0,
              "ticks": ""
             }
            },
            "type": "scatterternary"
           }
          ],
          "surface": [
           {
            "colorbar": {
             "outlinewidth": 0,
             "ticks": ""
            },
            "colorscale": [
             [
              0,
              "#0d0887"
             ],
             [
              0.1111111111111111,
              "#46039f"
             ],
             [
              0.2222222222222222,
              "#7201a8"
             ],
             [
              0.3333333333333333,
              "#9c179e"
             ],
             [
              0.4444444444444444,
              "#bd3786"
             ],
             [
              0.5555555555555556,
              "#d8576b"
             ],
             [
              0.6666666666666666,
              "#ed7953"
             ],
             [
              0.7777777777777778,
              "#fb9f3a"
             ],
             [
              0.8888888888888888,
              "#fdca26"
             ],
             [
              1,
              "#f0f921"
             ]
            ],
            "type": "surface"
           }
          ],
          "table": [
           {
            "cells": {
             "fill": {
              "color": "#EBF0F8"
             },
             "line": {
              "color": "white"
             }
            },
            "header": {
             "fill": {
              "color": "#C8D4E3"
             },
             "line": {
              "color": "white"
             }
            },
            "type": "table"
           }
          ]
         },
         "layout": {
          "annotationdefaults": {
           "arrowcolor": "#2a3f5f",
           "arrowhead": 0,
           "arrowwidth": 1
          },
          "autotypenumbers": "strict",
          "coloraxis": {
           "colorbar": {
            "outlinewidth": 0,
            "ticks": ""
           }
          },
          "colorscale": {
           "diverging": [
            [
             0,
             "#8e0152"
            ],
            [
             0.1,
             "#c51b7d"
            ],
            [
             0.2,
             "#de77ae"
            ],
            [
             0.3,
             "#f1b6da"
            ],
            [
             0.4,
             "#fde0ef"
            ],
            [
             0.5,
             "#f7f7f7"
            ],
            [
             0.6,
             "#e6f5d0"
            ],
            [
             0.7,
             "#b8e186"
            ],
            [
             0.8,
             "#7fbc41"
            ],
            [
             0.9,
             "#4d9221"
            ],
            [
             1,
             "#276419"
            ]
           ],
           "sequential": [
            [
             0,
             "#0d0887"
            ],
            [
             0.1111111111111111,
             "#46039f"
            ],
            [
             0.2222222222222222,
             "#7201a8"
            ],
            [
             0.3333333333333333,
             "#9c179e"
            ],
            [
             0.4444444444444444,
             "#bd3786"
            ],
            [
             0.5555555555555556,
             "#d8576b"
            ],
            [
             0.6666666666666666,
             "#ed7953"
            ],
            [
             0.7777777777777778,
             "#fb9f3a"
            ],
            [
             0.8888888888888888,
             "#fdca26"
            ],
            [
             1,
             "#f0f921"
            ]
           ],
           "sequentialminus": [
            [
             0,
             "#0d0887"
            ],
            [
             0.1111111111111111,
             "#46039f"
            ],
            [
             0.2222222222222222,
             "#7201a8"
            ],
            [
             0.3333333333333333,
             "#9c179e"
            ],
            [
             0.4444444444444444,
             "#bd3786"
            ],
            [
             0.5555555555555556,
             "#d8576b"
            ],
            [
             0.6666666666666666,
             "#ed7953"
            ],
            [
             0.7777777777777778,
             "#fb9f3a"
            ],
            [
             0.8888888888888888,
             "#fdca26"
            ],
            [
             1,
             "#f0f921"
            ]
           ]
          },
          "colorway": [
           "#636efa",
           "#EF553B",
           "#00cc96",
           "#ab63fa",
           "#FFA15A",
           "#19d3f3",
           "#FF6692",
           "#B6E880",
           "#FF97FF",
           "#FECB52"
          ],
          "font": {
           "color": "#2a3f5f"
          },
          "geo": {
           "bgcolor": "white",
           "lakecolor": "white",
           "landcolor": "#E5ECF6",
           "showlakes": true,
           "showland": true,
           "subunitcolor": "white"
          },
          "hoverlabel": {
           "align": "left"
          },
          "hovermode": "closest",
          "mapbox": {
           "style": "light"
          },
          "paper_bgcolor": "white",
          "plot_bgcolor": "#E5ECF6",
          "polar": {
           "angularaxis": {
            "gridcolor": "white",
            "linecolor": "white",
            "ticks": ""
           },
           "bgcolor": "#E5ECF6",
           "radialaxis": {
            "gridcolor": "white",
            "linecolor": "white",
            "ticks": ""
           }
          },
          "scene": {
           "xaxis": {
            "backgroundcolor": "#E5ECF6",
            "gridcolor": "white",
            "gridwidth": 2,
            "linecolor": "white",
            "showbackground": true,
            "ticks": "",
            "zerolinecolor": "white"
           },
           "yaxis": {
            "backgroundcolor": "#E5ECF6",
            "gridcolor": "white",
            "gridwidth": 2,
            "linecolor": "white",
            "showbackground": true,
            "ticks": "",
            "zerolinecolor": "white"
           },
           "zaxis": {
            "backgroundcolor": "#E5ECF6",
            "gridcolor": "white",
            "gridwidth": 2,
            "linecolor": "white",
            "showbackground": true,
            "ticks": "",
            "zerolinecolor": "white"
           }
          },
          "shapedefaults": {
           "line": {
            "color": "#2a3f5f"
           }
          },
          "ternary": {
           "aaxis": {
            "gridcolor": "white",
            "linecolor": "white",
            "ticks": ""
           },
           "baxis": {
            "gridcolor": "white",
            "linecolor": "white",
            "ticks": ""
           },
           "bgcolor": "#E5ECF6",
           "caxis": {
            "gridcolor": "white",
            "linecolor": "white",
            "ticks": ""
           }
          },
          "title": {
           "x": 0.05
          },
          "xaxis": {
           "automargin": true,
           "gridcolor": "white",
           "linecolor": "white",
           "ticks": "",
           "title": {
            "standoff": 15
           },
           "zerolinecolor": "white",
           "zerolinewidth": 2
          },
          "yaxis": {
           "automargin": true,
           "gridcolor": "white",
           "linecolor": "white",
           "ticks": "",
           "title": {
            "standoff": 15
           },
           "zerolinecolor": "white",
           "zerolinewidth": 2
          }
         }
        },
        "title": {
         "text": "3D t-SNE Visualization of Markdown and Code Embeddings"
        }
       }
      },
      "image/png": "[encoded data removed]",
      "text/html": [
       "<div>                            <div id=\"7c0db6a0-32f9-4cd7-a524-5a7fb9785840\" class=\"plotly-graph-div\" style=\"height:800px; width:100%;\"></div>            <script type=\"text/javascript\">                require([\"plotly\"], function(Plotly) {                    window.PLOTLYENV=window.PLOTLYENV || {};                                    if (document.getElementById(\"7c0db6a0-32f9-4cd7-a524-5a7fb9785840\")) {                    Plotly.newPlot(                        \"7c0db6a0-32f9-4cd7-a524-5a7fb9785840\",                        [{\"hovertemplate\":\"Label=Markdown<br>Dim1=%{x}<br>Dim2=%{y}<br>Dim3=%{z}<extra></extra>\",\"legendgroup\":\"Markdown\",\"marker\":{\"color\":\"#636efa\",\"symbol\":\"circle\"},\"mode\":\"markers\",\"name\":\"Markdown\",\"scene\":\"scene\",\"showlegend\":true,\"x\":[59.49072265625,76.51850891113281,49.82172393798828,-57.20775604248047,21.397008895874023,21.552326202392578,6.488323211669922,29.545246124267578,60.61445617675781,46.090476989746094,51.9410400390625,45.60545349121094,42.93598556518555,33.316402435302734,45.81605911254883,77.36412048339844,-15.598772048950195,14.140406608581543,-64.11575317382812,11.134183883666992,9.902520179748535,31.510038375854492,41.70608139038086,28.42451286315918,29.322341918945312,12.80550765991211,69.39657592773438,62.13987731933594,63.02634811401367,-64.19129180908203,21.397008895874023,33.109107971191406,16.12148666381836,29.545246124267578,68.61930084228516,42.698917388916016,51.9410400390625,45.60545349121094,31.525014877319336,33.316402435302734,45.81605911254883,77.36412048339844,-15.598772048950195,20.096059799194336,-55.13516616821289,15.998859405517578,9.902520179748535,31.510038375854492,41.70608139038086,28.42451286315918,29.322341918945312,12.80550765991211,69.39657592773438,62.13987731933594,63.02634811401367,-64.19129180908203,21.397008895874023,34.54022979736328,18.914846420288086,29.545246124267578,68.39402770996094,56.61471939086914,51.9410400390625,34.48927688598633,31.525014877319336,31.634164810180664,45.81605911254883,77.36412048339844,-15.598772048950195,14.140406608581543,-64.11575317382812,15.998859405517578,17.95537757873535,31.510038375854492,41.70608139038086,28.42451286315918,17.070003509521484,14.022244453430176,69.39657592773438,62.13987731933594,63.02634811401367,-64.19129180908203,21.397008895874023,24.139820098876953,18.914846420288086,29.545246124267578,60.61445617675781,45.497764587402344,51.9410400390625,47.734134674072266,31.525014877319336,31.634164810180664,45.81605911254883,77.36412048339844,-15.598772048950195,20.096059799194336,-64.11575317382812,11.134183883666992,9.902520179748535,31.510038375854492,41.70608139038086,28.42451286315918,29.322341918945312,12.80550765991211,69.39657592773438,72.53104400634766,63.02634811401367,-64.19129180908203,13.983743667602539,21.552326202392578,13.983743667602539,21.552326202392578,18.914846420288086,29.545246124267578,56.10425567626953,56.61471939086914,51.9410400390625,45.60545349121094,42.93598556518555,31.634164810180664,45.81605911254883,77.36412048339844,-12.749139785766602,20.096059799194336,-64.11575317382812,15.998859405517578,9.902520179748535,31.510038375854492,41.70608139038086,28.42451286315918,17.070003509521484,14.022244453430176,69.39657592773438,72.53104400634766,63.02634811401367,-64.19129180908203,21.397008895874023,34.54022979736328,16.12148666381836,29.545246124267578,56.10425567626953,46.090476989746094,51.9410400390625,47.734134674072266,31.525014877319336,31.634164810180664,45.81605911254883,77.36412048339844,-15.598772048950195,14.140406608581543,-55.13516616821289,15.998859405517578,17.95537757873535,31.510038375854492,41.70608139038086,28.42451286315918,17.070003509521484,14.022244453430176,69.39657592773438,72.53104400634766,63.02634811401367,-64.19129180908203,21.397008895874023,24.139820098876953,16.12148666381836,29.545246124267578,60.61445617675781,45.497764587402344,51.9410400390625,45.60545349121094,42.93598556518555,31.634164810180664,45.81605911254883,77.36412048339844,-15.598772048950195,14.140406608581543,-55.13516616821289,11.134183883666992,17.95537757873535,31.510038375854492,41.70608139038086,28.42451286315918,17.070003509521484,12.80550765991211,69.39657592773438,72.53104400634766,63.02634811401367,-64.19129180908203,19.738563537597656,19.738563537597656,24.139820098876953,16.12148666381836,29.545246124267578,55.767066955566406,42.698917388916016,51.9410400390625,45.60545349121094,42.93598556518555,33.316402435302734,45.81605911254883,77.36412048339844,-12.749139785766602,20.096059799194336,-55.13516616821289,15.998859405517578,9.902520179748535,31.510038375854492,41.70608139038086,28.42451286315918,29.322341918945312,14.022244453430176],\"y\":[-16.116994857788086,4.029017448425293,21.840829849243164,13.740392684936523,-53.740909576416016,-11.738478660583496,13.41494083404541,43.934486389160156,-55.560665130615234,26.232688903808594,50.02494430541992,-30.75424575805664,-2.6303813457489014,5.100858211517334,1.3820457458496094,-18.76130485534668,-66.67867279052734,-7.84585428237915,-18.335407257080078,35.137550354003906,59.59927749633789,48.02886962890625,-37.608028411865234,-26.81792640686035,-59.691497802734375,-42.039512634277344,-12.371265411376953,4.39396333694458,19.652780532836914,26.9132080078125,-53.740909576416016,-2.671678066253662,22.890825271606445,43.934486389160156,-49.70917892456055,39.08036804199219,50.02494430541992,-30.75424575805664,-9.067691802978516,5.100858211517334,1.3820457458496094,-18.76130485534668,-66.67867279052734,5.32334041595459,-10.74520492553711,21.799829483032227,59.59927749633789,48.02886962890625,-37.608028411865234,-26.81792640686035,-59.691497802734375,-42.039512634277344,-12.371265411376953,4.39396333694458,19.652780532836914,26.9132080078125,-53.740909576416016,-17.649261474609375,17.610422134399414,43.934486389160156,-43.03792953491211,33.7642707824707,50.02494430541992,-22.07301902770996,-9.067691802978516,-1.139860987663269,1.3820457458496094,-18.76130485534668,-66.67867279052734,-7.84585428237915,-18.335407257080078,21.799829483032227,62.770179748535156,48.02886962890625,-37.608028411865234,-26.81792640686035,-54.07347106933594,-56.989933013916016,-12.371265411376953,4.39396333694458,19.652780532836914,26.9132080078125,-53.740909576416016,-10.460639953613281,17.610422134399414,43.934486389160156,-55.560665130615234,26.926013946533203,50.02494430541992,-20.72272491455078,-9.067691802978516,-1.139860987663269,1.3820457458496094,-18.76130485534668,-66.67867279052734,5.32334041595459,-18.335407257080078,35.137550354003906,59.59927749633789,48.02886962890625,-37.608028411865234,-26.81792640686035,-59.691497802734375,-42.039512634277344,-12.371265411376953,14.203714370727539,19.652780532836914,26.9132080078125,-41.26783752441406,-11.738478660583496,-41.26783752441406,-11.738478660583496,17.610422134399414,43.934486389160156,-42.95799255371094,33.7642707824707,50.02494430541992,-30.75424575805664,-2.6303813457489014,-1.139860987663269,1.3820457458496094,-18.76130485534668,-66.46212768554688,5.32334041595459,-18.335407257080078,21.799829483032227,59.59927749633789,48.02886962890625,-37.608028411865234,-26.81792640686035,-54.07347106933594,-56.989933013916016,-12.371265411376953,14.203714370727539,19.652780532836914,26.9132080078125,-53.740909576416016,-17.649261474609375,22.890825271606445,43.934486389160156,-42.95799255371094,26.232688903808594,50.02494430541992,-20.72272491455078,-9.067691802978516,-1.139860987663269,1.3820457458496094,-18.76130485534668,-66.67867279052734,-7.84585428237915,-10.74520492553711,21.799829483032227,62.770179748535156,48.02886962890625,-37.608028411865234,-26.81792640686035,-54.07347106933594,-56.989933013916016,-12.371265411376953,14.203714370727539,19.652780532836914,26.9132080078125,-53.740909576416016,-10.460639953613281,22.890825271606445,43.934486389160156,-55.560665130615234,26.926013946533203,50.02494430541992,-30.75424575805664,-2.6303813457489014,-1.139860987663269,1.3820457458496094,-18.76130485534668,-66.67867279052734,-7.84585428237915,-10.74520492553711,35.137550354003906,62.770179748535156,48.02886962890625,-37.608028411865234,-26.81792640686035,-54.07347106933594,-42.039512634277344,-12.371265411376953,14.203714370727539,19.652780532836914,26.9132080078125,-40.21638488769531,-40.21638488769531,-10.460639953613281,22.890825271606445,43.934486389160156,-55.6459846496582,39.08036804199219,50.02494430541992,-30.75424575805664,-2.6303813457489014,5.100858211517334,1.3820457458496094,-18.76130485534668,-66.46212768554688,5.32334041595459,-10.74520492553711,21.799829483032227,59.59927749633789,48.02886962890625,-37.608028411865234,-26.81792640686035,-59.691497802734375,-56.989933013916016],\"z\":[-10.788354873657227,-4.213206768035889,-16.01167106628418,0.8777807950973511,45.40243911743164,65.88113403320312,58.35867691040039,46.8886604309082,-6.176314353942871,24.368629455566406,-4.627763271331787,25.28818702697754,-41.127079010009766,-10.776877403259277,35.22293472290039,21.204069137573242,7.332049369812012,-63.800384521484375,0.49315470457077026,20.18989372253418,12.433582305908203,-32.46003723144531,-31.386707305908203,-6.727940082550049,-5.155799388885498,-25.860055923461914,-21.397153854370117,1.0726230144500732,-22.59821891784668,0.9073668122291565,45.40243911743164,61.053531646728516,64.72021484375,46.8886604309082,5.297875881195068,17.801977157592773,-4.627763271331787,25.28818702697754,-33.938114166259766,-10.776877403259277,35.22293472290039,21.204069137573242,7.332049369812012,-67.8035659790039,-8.877314567565918,15.628182411193848,12.433582305908203,-32.46003723144531,-31.386707305908203,-6.727940082550049,-5.155799388885498,-25.860055923461914,-21.397153854370117,1.0726230144500732,-22.59821891784668,0.9073668122291565,45.40243911743164,59.65509796142578,50.94583511352539,46.8886604309082,-7.502213954925537,17.458860397338867,-4.627763271331787,20.953506469726562,-33.938114166259766,2.6449995040893555,35.22293472290039,21.204069137573242,7.332049369812012,-63.800384521484375,0.49315470457077026,15.628182411193848,0.07150350511074066,-32.46003723144531,-31.386707305908203,-6.727940082550049,1.5313392877578735,-27.22901725769043,-21.397153854370117,1.0726230144500732,-22.59821891784668,0.9073668122291565,45.40243911743164,50.823848724365234,50.94583511352539,46.8886604309082,-6.176314353942871,9.596038818359375,-4.627763271331787,14.392845153808594,-33.938114166259766,2.6449995040893555,35.22293472290039,21.204069137573242,7.332049369812012,-67.8035659790039,0.49315470457077026,20.18989372253418,12.433582305908203,-32.46003723144531,-31.386707305908203,-6.727940082550049,-5.155799388885498,-25.860055923461914,-21.397153854370117,5.669421195983887,-22.59821891784668,0.9073668122291565,52.11094665527344,65.88113403320312,52.11094665527344,65.88113403320312,50.94583511352539,46.8886604309082,0.43223264813423157,17.458860397338867,-4.627763271331787,25.28818702697754,-41.127079010009766,2.6449995040893555,35.22293472290039,21.204069137573242,22.52828598022461,-67.8035659790039,0.49315470457077026,15.628182411193848,12.433582305908203,-32.46003723144531,-31.386707305908203,-6.727940082550049,1.5313392877578735,-27.22901725769043,-21.397153854370117,5.669421195983887,-22.59821891784668,0.9073668122291565,45.40243911743164,59.65509796142578,64.72021484375,46.8886604309082,0.43223264813423157,24.368629455566406,-4.627763271331787,14.392845153808594,-33.938114166259766,2.6449995040893555,35.22293472290039,21.204069137573242,7.332049369812012,-63.800384521484375,-8.877314567565918,15.628182411193848,0.07150350511074066,-32.46003723144531,-31.386707305908203,-6.727940082550049,1.5313392877578735,-27.22901725769043,-21.397153854370117,5.669421195983887,-22.59821891784668,0.9073668122291565,45.40243911743164,50.823848724365234,64.72021484375,46.8886604309082,-6.176314353942871,9.596038818359375,-4.627763271331787,25.28818702697754,-41.127079010009766,2.6449995040893555,35.22293472290039,21.204069137573242,7.332049369812012,-63.800384521484375,-8.877314567565918,20.18989372253418,0.07150350511074066,-32.46003723144531,-31.386707305908203,-6.727940082550049,1.5313392877578735,-25.860055923461914,-21.397153854370117,5.669421195983887,-22.59821891784668,0.9073668122291565,37.459903717041016,37.459903717041016,50.823848724365234,64.72021484375,46.8886604309082,7.885997295379639,17.801977157592773,-4.627763271331787,25.28818702697754,-41.127079010009766,-10.776877403259277,35.22293472290039,21.204069137573242,22.52828598022461,-67.8035659790039,-8.877314567565918,15.628182411193848,12.433582305908203,-32.46003723144531,-31.386707305908203,-6.727940082550049,-5.155799388885498,-27.22901725769043],\"type\":\"scatter3d\"},{\"hovertemplate\":\"Label=Code<br>Dim1=%{x}<br>Dim2=%{y}<br>Dim3=%{z}<extra></extra>\",\"legendgroup\":\"Code\",\"marker\":{\"color\":\"#EF553B\",\"symbol\":\"circle\"},\"mode\":\"markers\",\"name\":\"Code\",\"scene\":\"scene\",\"showlegend\":true,\"x\":[-44.00979995727539,-51.3743782043457,-47.189632415771484,-85.33477020263672,-15.298335075378418,-16.307559967041016,-29.918071746826172,-20.984554290771484,-28.006126403808594,-39.428218841552734,-31.290142059326172,-11.801412582397461,-9.380131721496582,4.395984649658203,-13.315340995788574,-45.01738739013672,-60.82263946533203,-60.16934585571289,-63.63782501220703,16.673561096191406,1.9518778324127197,8.564349174499512,-13.042418479919434,-27.68058204650879,-17.718921661376953,-35.49201202392578,-44.00979995727539,-51.3743782043457,-47.189632415771484,-85.33477020263672,-15.298335075378418,-16.307559967041016,-22.62766456604004,-20.984554290771484,-28.006126403808594,-39.428218841552734,-26.226917266845703,-21.59989356994629,-1.832521915435791,4.395984649658203,-20.44976043701172,-45.01738739013672,-62.4018440246582,-60.16934585571289,-63.63782501220703,-0.9823167324066162,1.9518778324127197,9.740799903869629,-12.634662628173828,-27.68058204650879,-7.940641403198242,-32.901145935058594,-43.4123420715332,-51.3743782043457,-55.062625885009766,-85.33477020263672,-15.298335075378418,-24.250699996948242,-29.918071746826172,-9.048952102661133,-28.006126403808594,-43.36764907836914,-37.22663879394531,-6.936025619506836,-5.2889275550842285,2.3402907848358154,-18.69205093383789,-45.01738739013672,-52.76988983154297,-60.16934585571289,-63.63782501220703,8.359003067016602,1.9518778324127197,9.740799903869629,-12.634662628173828,-27.68058204650879,-7.940641403198242,-32.2573356628418,-40.45332717895508,-42.625953674316406,-53.35880661010742,-85.33477020263672,-15.298335075378418,-16.23188018798828,-29.918071746826172,-9.048952102661133,-28.006126403808594,-43.36764907836914,-37.22663879394531,-18.805959701538086,-15.611349105834961,2.3402907848358154,-5.312195301055908,-45.01738739013672,-52.76988983154297,-60.16934585571289,-63.63782501220703,4.214226722717285,1.9518778324127197,9.740799903869629,-12.61609172821045,-27.68058204650879,-7.940641403198242,-20.259742736816406,-40.45332717895508,-42.625953674316406,-62.14915084838867,-85.33477020263672,-14.1177396774292,-31.45414161682129,-15.298335075378418,-22.605539321899414,-22.62766456604004,-9.048952102661133,-28.006126403808594,-43.36764907836914,-21.543119430541992,-13.652761459350586,-15.611349105834961,14.858792304992676,-10.28478717803955,-45.01738739013672,-63.44999313354492,-60.16934585571289,-63.63782501220703,14.08975887298584,1.9518778324127197,9.740799903869629,-12.634662628173828,-27.68058204650879,-5.419041633605957,-23.169565200805664,-43.4123420715332,-51.3743782043457,-53.35880661010742,-85.33477020263672,-15.298335075378418,-30.74115562438965,-22.62766456604004,-9.048952102661133,-28.006126403808594,-43.36764907836914,-32.90877914428711,-6.936025619506836,-15.611349105834961,2.3402907848358154,-26.804241180419922,-45.01738739013672,-52.76988983154297,-60.16934585571289,-63.63782501220703,8.359003067016602,1.9518778324127197,9.740799903869629,-12.634662628173828,-27.68058204650879,-5.419041633605957,-23.57883071899414,-43.4123420715332,-42.625953674316406,-62.14915084838867,-85.33477020263672,-15.298335075378418,-24.15438461303711,-29.918071746826172,-9.048952102661133,-28.006126403808594,-43.36764907836914,-27.11269760131836,-6.936025619506836,-5.2889275550842285,2.3402907848358154,-23.194141387939453,-45.01738739013672,-68.75415802001953,-60.16934585571289,-63.63782501220703,4.214226722717285,1.9518778324127197,9.740799903869629,-12.634662628173828,-27.68058204650879,-5.419041633605957,-32.901145935058594,-43.4123420715332,-42.625953674316406,-55.062625885009766,-85.33477020263672,-14.1177396774292,-15.298335075378418,-22.605539321899414,-29.918071746826172,-9.048952102661133,-28.006126403808594,-43.36764907836914,-21.543119430541992,-16.98537254333496,-18.988027572631836,12.262621879577637,-13.10877799987793,-45.01738739013672,-63.44999313354492,-60.16934585571289,-63.63782501220703,-0.948072612285614,9.315476417541504,9.740799903869629,-12.634662628173828,-36.32825469970703,-7.940641403198242,-32.901145935058594],\"y\":[31.7155818939209,-8.122857093811035,8.834749221801758,7.264976978302002,55.33650207519531,33.542091369628906,-40.76038360595703,-29.931472778320312,-15.144031524658203,-39.41130447387695,-5.747139930725098,8.66736888885498,-32.379066467285156,-12.396525382995605,-5.805534839630127,62.08946990966797,1.9353281259536743,-23.291292190551758,-32.750980377197266,38.376564025878906,9.741307258605957,35.65620803833008,42.496788024902344,-1.1868548393249512,-39.646305084228516,31.880422592163086,31.7155818939209,-8.122857093811035,8.834749221801758,7.264976978302002,55.33650207519531,33.542091369628906,-53.310638427734375,-29.931472778320312,-15.144031524658203,-39.41130447387695,-21.519195556640625,7.887009143829346,-31.971229553222656,-12.396525382995605,5.63413143157959,62.08946990966797,-0.7240008115768433,-23.291292190551758,-32.750980377197266,32.838592529296875,9.741307258605957,22.83305549621582,39.75421142578125,-1.1868548393249512,-31.651683807373047,37.310943603515625,41.52890396118164,-8.122857093811035,21.363975524902344,7.264976978302002,55.33650207519531,42.467708587646484,-40.76038360595703,-36.49353790283203,-15.144031524658203,-45.43320083618164,-15.560674667358398,11.961612701416016,-19.345874786376953,-11.263978004455566,-12.221579551696777,62.08946990966797,-0.2670096158981323,-23.291292190551758,-32.750980377197266,42.788856506347656,9.741307258605957,22.83305549621582,39.75421142578125,-1.1868548393249512,-31.651683807373047,23.093090057373047,27.18462371826172,0.950267493724823,17.015701293945312,7.264976978302002,55.33650207519531,32.05787658691406,-40.76038360595703,-36.49353790283203,-15.144031524658203,-45.43320083618164,-15.560674667358398,14.850936889648438,-27.623659133911133,-11.263978004455566,-8.765865325927734,62.08946990966797,-0.2670096158981323,-23.291292190551758,-32.750980377197266,31.63105010986328,9.741307258605957,22.83305549621582,53.772029876708984,-1.1868548393249512,-31.651683807373047,31.05665397644043,27.18462371826172,0.950267493724823,8.753900527954102,7.264976978302002,62.78085708618164,33.78517532348633,55.33650207519531,21.544048309326172,-53.310638427734375,-36.49353790283203,-15.144031524658203,-45.43320083618164,-10.309530258178711,1.2623941898345947,-27.623659133911133,-6.581940174102783,4.2452850341796875,62.08946990966797,10.307929992675781,-23.291292190551758,-32.750980377197266,29.63665771484375,9.741307258605957,22.83305549621582,39.75421142578125,-1.1868548393249512,-34.41596603393555,27.39524269104004,41.52890396118164,-8.122857093811035,17.015701293945312,7.264976978302002,55.33650207519531,31.286344528198242,-53.310638427734375,-36.49353790283203,-15.144031524658203,-45.43320083618164,-3.3536794185638428,11.961612701416016,-27.623659133911133,-11.263978004455566,-6.735838413238525,62.08946990966797,-0.2670096158981323,-23.291292190551758,-32.750980377197266,42.788856506347656,9.741307258605957,22.83305549621582,39.75421142578125,-1.1868548393249512,-34.41596603393555,40.865501403808594,41.52890396118164,0.950267493724823,8.753900527954102,7.264976978302002,55.33650207519531,24.750591278076172,-40.76038360595703,-36.49353790283203,-15.144031524658203,-45.43320083618164,-21.108257293701172,11.961612701416016,-19.345874786376953,-11.263978004455566,0.7781655788421631,62.08946990966797,-3.0308165550231934,-23.291292190551758,-32.750980377197266,31.63105010986328,9.741307258605957,22.83305549621582,39.75421142578125,-1.1868548393249512,-34.41596603393555,37.310943603515625,41.52890396118164,0.950267493724823,21.363975524902344,7.264976978302002,62.78085708618164,55.33650207519531,21.544048309326172,-40.76038360595703,-36.49353790283203,-15.144031524658203,-45.43320083618164,-10.309530258178711,20.437671661376953,-21.75496482849121,-21.153284072875977,-3.2026100158691406,62.08946990966797,10.307929992675781,-23.291292190551758,-32.750980377197266,44.31454086303711,1.9641163349151611,22.83305549621582,39.75421142578125,5.950264930725098,-31.651683807373047,37.310943603515625],\"z\":[40.07632064819336,-48.85691452026367,-33.17706298828125,-2.0491697788238525,-27.43363380432129,-41.38252639770508,-32.049354553222656,-58.06303405761719,23.697193145751953,-1.4407713413238525,49.2606086730957,17.752538681030273,-16.65101432800293,29.692176818847656,-26.68166732788086,4.4235920906066895,23.3408260345459,32.81105422973633,-24.37399673461914,-5.3651442527771,-13.165574073791504,-49.686336517333984,30.89345359802246,0.7168061137199402,23.176239013671875,3.2039847373962402,40.07632064819336,-48.85691452026367,-33.17706298828125,-2.0491697788238525,-27.43363380432129,-41.38252639770508,-28.30199432373047,-58.06303405761719,23.697193145751953,-1.4407713413238525,50.76322937011719,27.488431930541992,-4.928278923034668,29.692176818847656,-26.65545654296875,4.4235920906066895,46.62806701660156,32.81105422973633,-24.37399673461914,-18.79762077331543,-13.165574073791504,-42.09516143798828,45.66005325317383,0.7168061137199402,31.158466339111328,-9.850931167602539,28.813013076782227,-48.85691452026367,-30.726598739624023,-2.0491697788238525,-27.43363380432129,-49.396453857421875,-32.049354553222656,-51.60269546508789,23.697193145751953,11.783160209655762,57.69399642944336,30.756240844726562,-10.955215454101562,14.70339584350586,-37.72397232055664,4.4235920906066895,35.40715408325195,32.81105422973633,-24.37399673461914,-15.926849365234375,-13.165574073791504,-42.09516143798828,45.66005325317383,0.7168061137199402,31.158466339111328,-8.719818115234375,26.300216674804688,-57.497318267822266,-44.92274475097656,-2.0491697788238525,-27.43363380432129,-56.038883209228516,-32.049354553222656,-51.60269546508789,23.697193145751953,11.783160209655762,57.69399642944336,38.8005256652832,-4.136485576629639,14.70339584350586,-36.803401947021484,4.4235920906066895,35.40715408325195,32.81105422973633,-24.37399673461914,-5.744586944580078,-13.165574073791504,-42.09516143798828,40.231197357177734,0.7168061137199402,31.158466339111328,-11.300710678100586,26.300216674804688,-57.497318267822266,-35.747032165527344,-2.0491697788238525,-13.241899490356445,-40.535972595214844,-27.43363380432129,-47.54689407348633,-28.30199432373047,-51.60269546508789,23.697193145751953,11.783160209655762,58.65584945678711,37.00504684448242,-4.136485576629639,21.380828857421875,-35.77365493774414,4.4235920906066895,36.041221618652344,32.81105422973633,-24.37399673461914,-16.269329071044922,-13.165574073791504,-42.09516143798828,45.66005325317383,0.7168061137199402,16.545095443725586,1.151859998703003,28.813013076782227,-48.85691452026367,-44.92274475097656,-2.0491697788238525,-27.43363380432129,-54.27656936645508,-28.30199432373047,-51.60269546508789,23.697193145751953,11.783160209655762,64.0615234375,30.756240844726562,-4.136485576629639,14.70339584350586,-28.306062698364258,4.4235920906066895,35.40715408325195,32.81105422973633,-24.37399673461914,-15.926849365234375,-13.165574073791504,-42.09516143798828,45.66005325317383,0.7168061137199402,16.545095443725586,0.7737767100334167,28.813013076782227,-57.497318267822266,-35.747032165527344,-2.0491697788238525,-27.43363380432129,-33.12836456298828,-32.049354553222656,-51.60269546508789,23.697193145751953,11.783160209655762,66.08280944824219,30.756240844726562,-10.955215454101562,14.70339584350586,-39.0480842590332,4.4235920906066895,33.9334831237793,32.81105422973633,-24.37399673461914,-5.744586944580078,-13.165574073791504,-42.09516143798828,45.66005325317383,0.7168061137199402,16.545095443725586,-9.850931167602539,28.813013076782227,-57.497318267822266,-30.726598739624023,-2.0491697788238525,-13.241899490356445,-27.43363380432129,-47.54689407348633,-32.049354553222656,-51.60269546508789,23.697193145751953,11.783160209655762,58.65584945678711,24.34519386291504,-17.09368896484375,20.24201774597168,-46.84605026245117,4.4235920906066895,36.041221618652344,32.81105422973633,-24.37399673461914,-5.278550624847412,-23.578481674194336,-42.09516143798828,45.66005325317383,11.015405654907227,31.158466339111328,-9.850931167602539],\"type\":\"scatter3d\"}],                        {\"template\":{\"data\":{\"histogram2dcontour\":[{\"type\":\"histogram2dcontour\",\"colorbar\":{\"outlinewidth\":0,\"ticks\":\"\"},\"colorscale\":[[0.0,\"#0d0887\"],[0.1111111111111111,\"#46039f\"],[0.2222222222222222,\"#7201a8\"],[0.3333333333333333,\"#9c179e\"],[0.4444444444444444,\"#bd3786\"],[0.5555555555555556,\"#d8576b\"],[0.6666666666666666,\"#ed7953\"],[0.7777777777777778,\"#fb9f3a\"],[0.8888888888888888,\"#fdca26\"],[1.0,\"#f0f921\"]]}],\"choropleth\":[{\"type\":\"choropleth\",\"colorbar\":{\"outlinewidth\":0,\"ticks\":\"\"}}],\"histogram2d\":[{\"type\":\"histogram2d\",\"colorbar\":{\"outlinewidth\":0,\"ticks\":\"\"},\"colorscale\":[[0.0,\"#0d0887\"],[0.1111111111111111,\"#46039f\"],[0.2222222222222222,\"#7201a8\"],[0.3333333333333333,\"#9c179e\"],[0.4444444444444444,\"#bd3786\"],[0.5555555555555556,\"#d8576b\"],[0.6666666666666666,\"#ed7953\"],[0.7777777777777778,\"#fb9f3a\"],[0.8888888888888888,\"#fdca26\"],[1.0,\"#f0f921\"]]}],\"heatmap\":[{\"type\":\"heatmap\",\"colorbar\":{\"outlinewidth\":0,\"ticks\":\"\"},\"colorscale\":[[0.0,\"#0d0887\"],[0.1111111111111111,\"#46039f\"],[0.2222222222222222,\"#7201a8\"],[0.3333333333333333,\"#9c179e\"],[0.4444444444444444,\"#bd3786\"],[0.5555555555555556,\"#d8576b\"],[0.6666666666666666,\"#ed7953\"],[0.7777777777777778,\"#fb9f3a\"],[0.8888888888888888,\"#fdca26\"],[1.0,\"#f0f921\"]]}],\"heatmapgl\":[{\"type\":\"heatmapgl\",\"colorbar\":{\"outlinewidth\":0,\"ticks\":\"\"},\"colorscale\":[[0.0,\"#0d0887\"],[0.1111111111111111,\"#46039f\"],[0.2222222222222222,\"#7201a8\"],[0.3333333333333333,\"#9c179e\"],[0.4444444444444444,\"#bd3786\"],[0.5555555555555556,\"#d8576b\"],[0.6666666666666666,\"#ed7953\"],[0.7777777777777778,\"#fb9f3a\"],[0.8888888888888888,\"#fdca26\"],[1.0,\"#f0f921\"]]}],\"contourcarpet\":[{\"type\":\"contourcarpet\",\"colorbar\":{\"outlinewidth\":0,\"ticks\":\"\"}}],\"contour\":[{\"type\":\"contour\",\"colorbar\":{\"outlinewidth\":0,\"ticks\":\"\"},\"colorscale\":[[0.0,\"#0d0887\"],[0.1111111111111111,\"#46039f\"],[0.2222222222222222,\"#7201a8\"],[0.3333333333333333,\"#9c179e\"],[0.4444444444444444,\"#bd3786\"],[0.5555555555555556,\"#d8576b\"],[0.6666666666666666,\"#ed7953\"],[0.7777777777777778,\"#fb9f3a\"],[0.8888888888888888,\"#fdca26\"],[1.0,\"#f0f921\"]]}],\"surface\":[{\"type\":\"surface\",\"colorbar\":{\"outlinewidth\":0,\"ticks\":\"\"},\"colorscale\":[[0.0,\"#0d0887\"],[0.1111111111111111,\"#46039f\"],[0.2222222222222222,\"#7201a8\"],[0.3333333333333333,\"#9c179e\"],[0.4444444444444444,\"#bd3786\"],[0.5555555555555556,\"#d8576b\"],[0.6666666666666666,\"#ed7953\"],[0.7777777777777778,\"#fb9f3a\"],[0.8888888888888888,\"#fdca26\"],[1.0,\"#f0f921\"]]}],\"mesh3d\":[{\"type\":\"mesh3d\",\"colorbar\":{\"outlinewidth\":0,\"ticks\":\"\"}}],\"scatter\":[{\"fillpattern\":{\"fillmode\":\"overlay\",\"size\":10,\"solidity\":0.2},\"type\":\"scatter\"}],\"parcoords\":[{\"type\":\"parcoords\",\"line\":{\"colorbar\":{\"outlinewidth\":0,\"ticks\":\"\"}}}],\"scatterpolargl\":[{\"type\":\"scatterpolargl\",\"marker\":{\"colorbar\":{\"outlinewidth\":0,\"ticks\":\"\"}}}],\"bar\":[{\"error_x\":{\"color\":\"#2a3f5f\"},\"error_y\":{\"color\":\"#2a3f5f\"},\"marker\":{\"line\":{\"color\":\"#E5ECF6\",\"width\":0.5},\"pattern\":{\"fillmode\":\"overlay\",\"size\":10,\"solidity\":0.2}},\"type\":\"bar\"}],\"scattergeo\":[{\"type\":\"scattergeo\",\"marker\":{\"colorbar\":{\"outlinewidth\":0,\"ticks\":\"\"}}}],\"scatterpolar\":[{\"type\":\"scatterpolar\",\"marker\":{\"colorbar\":{\"outlinewidth\":0,\"ticks\":\"\"}}}],\"histogram\":[{\"marker\":{\"pattern\":{\"fillmode\":\"overlay\",\"size\":10,\"solidity\":0.2}},\"type\":\"histogram\"}],\"scattergl\":[{\"type\":\"scattergl\",\"marker\":{\"colorbar\":{\"outlinewidth\":0,\"ticks\":\"\"}}}],\"scatter3d\":[{\"type\":\"scatter3d\",\"line\":{\"colorbar\":{\"outlinewidth\":0,\"ticks\":\"\"}},\"marker\":{\"colorbar\":{\"outlinewidth\":0,\"ticks\":\"\"}}}],\"scattermapbox\":[{\"type\":\"scattermapbox\",\"marker\":{\"colorbar\":{\"outlinewidth\":0,\"ticks\":\"\"}}}],\"scatterternary\":[{\"type\":\"scatterternary\",\"marker\":{\"colorbar\":{\"outlinewidth\":0,\"ticks\":\"\"}}}],\"scattercarpet\":[{\"type\":\"scattercarpet\",\"marker\":{\"colorbar\":{\"outlinewidth\":0,\"ticks\":\"\"}}}],\"carpet\":[{\"aaxis\":{\"endlinecolor\":\"#2a3f5f\",\"gridcolor\":\"white\",\"linecolor\":\"white\",\"minorgridcolor\":\"white\",\"startlinecolor\":\"#2a3f5f\"},\"baxis\":{\"endlinecolor\":\"#2a3f5f\",\"gridcolor\":\"white\",\"linecolor\":\"white\",\"minorgridcolor\":\"white\",\"startlinecolor\":\"#2a3f5f\"},\"type\":\"carpet\"}],\"table\":[{\"cells\":{\"fill\":{\"color\":\"#EBF0F8\"},\"line\":{\"color\":\"white\"}},\"header\":{\"fill\":{\"color\":\"#C8D4E3\"},\"line\":{\"color\":\"white\"}},\"type\":\"table\"}],\"barpolar\":[{\"marker\":{\"line\":{\"color\":\"#E5ECF6\",\"width\":0.5},\"pattern\":{\"fillmode\":\"overlay\",\"size\":10,\"solidity\":0.2}},\"type\":\"barpolar\"}],\"pie\":[{\"automargin\":true,\"type\":\"pie\"}]},\"layout\":{\"autotypenumbers\":\"strict\",\"colorway\":[\"#636efa\",\"#EF553B\",\"#00cc96\",\"#ab63fa\",\"#FFA15A\",\"#19d3f3\",\"#FF6692\",\"#B6E880\",\"#FF97FF\",\"#FECB52\"],\"font\":{\"color\":\"#2a3f5f\"},\"hovermode\":\"closest\",\"hoverlabel\":{\"align\":\"left\"},\"paper_bgcolor\":\"white\",\"plot_bgcolor\":\"#E5ECF6\",\"polar\":{\"bgcolor\":\"#E5ECF6\",\"angularaxis\":{\"gridcolor\":\"white\",\"linecolor\":\"white\",\"ticks\":\"\"},\"radialaxis\":{\"gridcolor\":\"white\",\"linecolor\":\"white\",\"ticks\":\"\"}},\"ternary\":{\"bgcolor\":\"#E5ECF6\",\"aaxis\":{\"gridcolor\":\"white\",\"linecolor\":\"white\",\"ticks\":\"\"},\"baxis\":{\"gridcolor\":\"white\",\"linecolor\":\"white\",\"ticks\":\"\"},\"caxis\":{\"gridcolor\":\"white\",\"linecolor\":\"white\",\"ticks\":\"\"}},\"coloraxis\":{\"colorbar\":{\"outlinewidth\":0,\"ticks\":\"\"}},\"colorscale\":{\"sequential\":[[0.0,\"#0d0887\"],[0.1111111111111111,\"#46039f\"],[0.2222222222222222,\"#7201a8\"],[0.3333333333333333,\"#9c179e\"],[0.4444444444444444,\"#bd3786\"],[0.5555555555555556,\"#d8576b\"],[0.6666666666666666,\"#ed7953\"],[0.7777777777777778,\"#fb9f3a\"],[0.8888888888888888,\"#fdca26\"],[1.0,\"#f0f921\"]],\"sequentialminus\":[[0.0,\"#0d0887\"],[0.1111111111111111,\"#46039f\"],[0.2222222222222222,\"#7201a8\"],[0.3333333333333333,\"#9c179e\"],[0.4444444444444444,\"#bd3786\"],[0.5555555555555556,\"#d8576b\"],[0.6666666666666666,\"#ed7953\"],[0.7777777777777778,\"#fb9f3a\"],[0.8888888888888888,\"#fdca26\"],[1.0,\"#f0f921\"]],\"diverging\":[[0,\"#8e0152\"],[0.1,\"#c51b7d\"],[0.2,\"#de77ae\"],[0.3,\"#f1b6da\"],[0.4,\"#fde0ef\"],[0.5,\"#f7f7f7\"],[0.6,\"#e6f5d0\"],[0.7,\"#b8e186\"],[0.8,\"#7fbc41\"],[0.9,\"#4d9221\"],[1,\"#276419\"]]},\"xaxis\":{\"gridcolor\":\"white\",\"linecolor\":\"white\",\"ticks\":\"\",\"title\":{\"standoff\":15},\"zerolinecolor\":\"white\",\"automargin\":true,\"zerolinewidth\":2},\"yaxis\":{\"gridcolor\":\"white\",\"linecolor\":\"white\",\"ticks\":\"\",\"title\":{\"standoff\":15},\"zerolinecolor\":\"white\",\"automargin\":true,\"zerolinewidth\":2},\"scene\":{\"xaxis\":{\"backgroundcolor\":\"#E5ECF6\",\"gridcolor\":\"white\",\"linecolor\":\"white\",\"showbackground\":true,\"ticks\":\"\",\"zerolinecolor\":\"white\",\"gridwidth\":2},\"yaxis\":{\"backgroundcolor\":\"#E5ECF6\",\"gridcolor\":\"white\",\"linecolor\":\"white\",\"showbackground\":true,\"ticks\":\"\",\"zerolinecolor\":\"white\",\"gridwidth\":2},\"zaxis\":{\"backgroundcolor\":\"#E5ECF6\",\"gridcolor\":\"white\",\"linecolor\":\"white\",\"showbackground\":true,\"ticks\":\"\",\"zerolinecolor\":\"white\",\"gridwidth\":2}},\"shapedefaults\":{\"line\":{\"color\":\"#2a3f5f\"}},\"annotationdefaults\":{\"arrowcolor\":\"#2a3f5f\",\"arrowhead\":0,\"arrowwidth\":1},\"geo\":{\"bgcolor\":\"white\",\"landcolor\":\"#E5ECF6\",\"subunitcolor\":\"white\",\"showland\":true,\"showlakes\":true,\"lakecolor\":\"white\"},\"title\":{\"x\":0.05},\"mapbox\":{\"style\":\"light\"}}},\"scene\":{\"domain\":{\"x\":[0.0,1.0],\"y\":[0.0,1.0]},\"xaxis\":{\"title\":{\"text\":\"Dim1\"}},\"yaxis\":{\"title\":{\"text\":\"Dim2\"}},\"zaxis\":{\"title\":{\"text\":\"Dim3\"}}},\"legend\":{\"title\":{\"text\":\"Label\"},\"tracegroupgap\":0},\"title\":{\"text\":\"3D t-SNE Visualization of Markdown and Code Embeddings\"},\"height\":800},                        {\"responsive\": true}                    ).then(function(){\n",
       "                            \n",
       "var gd = document.getElementById('7c0db6a0-32f9-4cd7-a524-5a7fb9785840');\n",
       "var x = new MutationObserver(function (mutations, observer) {{\n",
       "        var display = window.getComputedStyle(gd).display;\n",
       "        if (!display || display === 'none') {{\n",
       "            console.log([gd, 'removed!']);\n",
       "            Plotly.purge(gd);\n",
       "            observer.disconnect();\n",
       "        }}\n",
       "}});\n",
       "\n",
       "// Listen for the removal of the full notebook cells\n",
       "var notebookContainer = gd.closest('#notebook-container');\n",
       "if (notebookContainer) {{\n",
       "    x.observe(notebookContainer, {childList: true});\n",
       "}}\n",
       "\n",
       "// Listen for the clearing of the current output cell\n",
       "var outputEl = gd.closest('.output');\n",
       "if (outputEl) {{\n",
       "    x.observe(outputEl, {childList: true});\n",
       "}}\n",
       "\n",
       "                        })                };                });            </script>        </div>"
      ]
     },
     "metadata": {},
     "output_type": "display_data"
    }
   ],
   "source": [
    "# Apply t-SNE to reduce dimensions to 3D\n",
    "tsne = TSNE(n_components=3, random_state=42)\n",
    "reduced_embeddings = tsne.fit_transform(combined_embeddings)\n",
    "\n",
    "# Split the reduced embeddings back into markdown and code\n",
    "markdown_reduced = reduced_embeddings[:len(markdown_embeddings)]\n",
    "code_reduced = reduced_embeddings[len(markdown_embeddings):]\n",
    "\n",
    "# Create labels for the embeddings\n",
    "labels = ['Markdown'] * len(markdown_embeddings) + ['Code'] * len(code_embeddings)\n",
    "\n",
    "# Create a DataFrame for Plotly\n",
    "import pandas as pd\n",
    "df = pd.DataFrame(reduced_embeddings, columns=['Dim1', 'Dim2', 'Dim3'])\n",
    "df['Label'] = labels\n",
    "\n",
    "# Plot the embeddings using Plotly\n",
    "fig = px.scatter_3d(df, x='Dim1', y='Dim2', z='Dim3', color='Label', title='3D t-SNE Visualization of Markdown and Code Embeddings', height=800)\n",
    "fig.show()"
   ]
  },
  {
   "cell_type": "code",
   "execution_count": 67,
   "metadata": {},
   "outputs": [
    {
     "data": {
      "text/html": [
       "<style>#sk-container-id-4 {color: black;background-color: white;}#sk-container-id-4 pre{padding: 0;}#sk-container-id-4 div.sk-toggleable {background-color: white;}#sk-container-id-4 label.sk-toggleable__label {cursor: pointer;display: block;width: 100%;margin-bottom: 0;padding: 0.3em;box-sizing: border-box;text-align: center;}#sk-container-id-4 label.sk-toggleable__label-arrow:before {content: \"▸\";float: left;margin-right: 0.25em;color: #696969;}#sk-container-id-4 label.sk-toggleable__label-arrow:hover:before {color: black;}#sk-container-id-4 div.sk-estimator:hover label.sk-toggleable__label-arrow:before {color: black;}#sk-container-id-4 div.sk-toggleable__content {max-height: 0;max-width: 0;overflow: hidden;text-align: left;background-color: #f0f8ff;}#sk-container-id-4 div.sk-toggleable__content pre {margin: 0.2em;color: black;border-radius: 0.25em;background-color: #f0f8ff;}#sk-container-id-4 input.sk-toggleable__control:checked~div.sk-toggleable__content {max-height: 200px;max-width: 100%;overflow: auto;}#sk-container-id-4 input.sk-toggleable__control:checked~label.sk-toggleable__label-arrow:before {content: \"▾\";}#sk-container-id-4 div.sk-estimator input.sk-toggleable__control:checked~label.sk-toggleable__label {background-color: #d4ebff;}#sk-container-id-4 div.sk-label input.sk-toggleable__control:checked~label.sk-toggleable__label {background-color: #d4ebff;}#sk-container-id-4 input.sk-hidden--visually {border: 0;clip: rect(1px 1px 1px 1px);clip: rect(1px, 1px, 1px, 1px);height: 1px;margin: -1px;overflow: hidden;padding: 0;position: absolute;width: 1px;}#sk-container-id-4 div.sk-estimator {font-family: monospace;background-color: #f0f8ff;border: 1px dotted black;border-radius: 0.25em;box-sizing: border-box;margin-bottom: 0.5em;}#sk-container-id-4 div.sk-estimator:hover {background-color: #d4ebff;}#sk-container-id-4 div.sk-parallel-item::after {content: \"\";width: 100%;border-bottom: 1px solid gray;flex-grow: 1;}#sk-container-id-4 div.sk-label:hover label.sk-toggleable__label {background-color: #d4ebff;}#sk-container-id-4 div.sk-serial::before {content: \"\";position: absolute;border-left: 1px solid gray;box-sizing: border-box;top: 0;bottom: 0;left: 50%;z-index: 0;}#sk-container-id-4 div.sk-serial {display: flex;flex-direction: column;align-items: center;background-color: white;padding-right: 0.2em;padding-left: 0.2em;position: relative;}#sk-container-id-4 div.sk-item {position: relative;z-index: 1;}#sk-container-id-4 div.sk-parallel {display: flex;align-items: stretch;justify-content: center;background-color: white;position: relative;}#sk-container-id-4 div.sk-item::before, #sk-container-id-4 div.sk-parallel-item::before {content: \"\";position: absolute;border-left: 1px solid gray;box-sizing: border-box;top: 0;bottom: 0;left: 50%;z-index: -1;}#sk-container-id-4 div.sk-parallel-item {display: flex;flex-direction: column;z-index: 1;position: relative;background-color: white;}#sk-container-id-4 div.sk-parallel-item:first-child::after {align-self: flex-end;width: 50%;}#sk-container-id-4 div.sk-parallel-item:last-child::after {align-self: flex-start;width: 50%;}#sk-container-id-4 div.sk-parallel-item:only-child::after {width: 0;}#sk-container-id-4 div.sk-dashed-wrapped {border: 1px dashed gray;margin: 0 0.4em 0.5em 0.4em;box-sizing: border-box;padding-bottom: 0.4em;background-color: white;}#sk-container-id-4 div.sk-label label {font-family: monospace;font-weight: bold;display: inline-block;line-height: 1.2em;}#sk-container-id-4 div.sk-label-container {text-align: center;}#sk-container-id-4 div.sk-container {/* jupyter's `normalize.less` sets `[hidden] { display: none; }` but bootstrap.min.css set `[hidden] { display: none !important; }` so we also need the `!important` here to be able to override the default hidden behavior on the sphinx rendered scikit-learn.org. See: https://github.com/scikit-learn/scikit-learn/issues/21755 */display: inline-block !important;position: relative;}#sk-container-id-4 div.sk-text-repr-fallback {display: none;}</style><div id=\"sk-container-id-4\" class=\"sk-top-container\"><div class=\"sk-text-repr-fallback\"><pre>NearestNeighbors(metric=&#x27;cosine&#x27;)</pre><b>In a Jupyter environment, please rerun this cell to show the HTML representation or trust the notebook. <br />On GitHub, the HTML representation is unable to render, please try loading this page with nbviewer.org.</b></div><div class=\"sk-container\" hidden><div class=\"sk-item\"><div class=\"sk-estimator sk-toggleable\"><input class=\"sk-toggleable__control sk-hidden--visually\" id=\"sk-estimator-id-4\" type=\"checkbox\" checked><label for=\"sk-estimator-id-4\" class=\"sk-toggleable__label sk-toggleable__label-arrow\">NearestNeighbors</label><div class=\"sk-toggleable__content\"><pre>NearestNeighbors(metric=&#x27;cosine&#x27;)</pre></div></div></div></div></div>"
      ],
      "text/plain": [
       "NearestNeighbors(metric='cosine')"
      ]
     },
     "execution_count": 67,
     "metadata": {},
     "output_type": "execute_result"
    }
   ],
   "source": [
    "from sklearn.neighbors import NearestNeighbors\n",
    "import numpy as np\n",
    "# Step 2: Initialize the NearestNeighbors model\n",
    "n_neighbors = 5  # Number of nearest neighbors to retrieve\n",
    "nbrs = NearestNeighbors(n_neighbors=n_neighbors, metric='cosine')  # You can also use 'euclidean'\n",
    "nbrs.fit(markdown_embeddings)  # Fit the model with the embeddings\n"
   ]
  },
  {
   "cell_type": "code",
   "execution_count": 68,
   "metadata": {},
   "outputs": [
    {
     "data": {
      "image/png": "[encoded data removed]",
      "text/plain": [
       "<Figure size 1000x600 with 1 Axes>"
      ]
     },
     "metadata": {},
     "output_type": "display_data"
    }
   ],
   "source": [
    "import matplotlib.pyplot as plt\n",
    "from sklearn.manifold import TSNE\n",
    "\n",
    "# Apply t-SNE to reduce dimensions to 2D\n",
    "tsne = TSNE(n_components=2, random_state=42)\n",
    "reduced_embeddings = tsne.fit_transform(markdown_embeddings)\n",
    "\n",
    "# Find the nearest neighbors for each embedding\n",
    "distances, indices = nbrs.kneighbors(markdown_embeddings)\n",
    "\n",
    "# Plot the embeddings and their nearest neighbors\n",
    "plt.figure(figsize=(10, 6))\n",
    "plt.scatter(reduced_embeddings[:, 0], reduced_embeddings[:, 1], label='Embeddings', alpha=0.5)\n",
    "\n",
    "for i in range(len(markdown_embeddings)):\n",
    "    for neighbor in indices[i]:\n",
    "        plt.plot([reduced_embeddings[i, 0], reduced_embeddings[neighbor, 0]],\n",
    "                 [reduced_embeddings[i, 1], reduced_embeddings[neighbor, 1]], 'r-', alpha=0.3)\n",
    "\n",
    "plt.title('2D t-SNE Visualization of Embeddings and Nearest Neighbors')\n",
    "plt.xlabel('Dimension 1')\n",
    "plt.ylabel('Dimension 2')\n",
    "plt.legend()\n",
    "plt.show()"
   ]
  },
  {
   "cell_type": "code",
   "execution_count": 69,
   "metadata": {},
   "outputs": [
    {
     "name": "stderr",
     "output_type": "stream",
     "text": [
      "huggingface/tokenizers: The current process just got forked, after parallelism has already been used. Disabling parallelism to avoid deadlocks...\n",
      "To disable this warning, you can either:\n",
      "\t- Avoid using `tokenizers` before the fork if possible\n",
      "\t- Explicitly set the environment variable TOKENIZERS_PARALLELISM=(true | false)\n"
     ]
    },
    {
     "name": "stdout",
     "output_type": "stream",
     "text": [
      "Requirement already satisfied: seaborn in /srv/conda/envs/notebook/lib/python3.11/site-packages (0.12.2)\n",
      "Requirement already satisfied: numpy!=1.24.0,>=1.17 in /srv/conda/envs/notebook/lib/python3.11/site-packages (from seaborn) (1.24.2)\n",
      "Requirement already satisfied: pandas>=0.25 in /srv/conda/envs/notebook/lib/python3.11/site-packages (from seaborn) (2.0.2)\n",
      "Requirement already satisfied: matplotlib!=3.6.1,>=3.1 in /srv/conda/envs/notebook/lib/python3.11/site-packages (from seaborn) (3.7.1)\n",
      "Requirement already satisfied: contourpy>=1.0.1 in /srv/conda/envs/notebook/lib/python3.11/site-packages (from matplotlib!=3.6.1,>=3.1->seaborn) (1.3.1)\n",
      "Requirement already satisfied: cycler>=0.10 in /srv/conda/envs/notebook/lib/python3.11/site-packages (from matplotlib!=3.6.1,>=3.1->seaborn) (0.12.1)\n",
      "Requirement already satisfied: fonttools>=4.22.0 in /srv/conda/envs/notebook/lib/python3.11/site-packages (from matplotlib!=3.6.1,>=3.1->seaborn) (4.55.0)\n",
      "Requirement already satisfied: kiwisolver>=1.0.1 in /srv/conda/envs/notebook/lib/python3.11/site-packages (from matplotlib!=3.6.1,>=3.1->seaborn) (1.4.7)\n",
      "Requirement already satisfied: packaging>=20.0 in /srv/conda/envs/notebook/lib/python3.11/site-packages (from matplotlib!=3.6.1,>=3.1->seaborn) (24.0)\n",
      "Requirement already satisfied: pillow>=6.2.0 in /srv/conda/envs/notebook/lib/python3.11/site-packages (from matplotlib!=3.6.1,>=3.1->seaborn) (10.0.1)\n",
      "Requirement already satisfied: pyparsing>=2.3.1 in /srv/conda/envs/notebook/lib/python3.11/site-packages (from matplotlib!=3.6.1,>=3.1->seaborn) (3.2.0)\n",
      "Requirement already satisfied: python-dateutil>=2.7 in /srv/conda/envs/notebook/lib/python3.11/site-packages (from matplotlib!=3.6.1,>=3.1->seaborn) (2.9.0)\n",
      "Requirement already satisfied: pytz>=2020.1 in /srv/conda/envs/notebook/lib/python3.11/site-packages (from pandas>=0.25->seaborn) (2024.1)\n",
      "Requirement already satisfied: tzdata>=2022.1 in /srv/conda/envs/notebook/lib/python3.11/site-packages (from pandas>=0.25->seaborn) (2024.2)\n",
      "Requirement already satisfied: six>=1.5 in /srv/conda/envs/notebook/lib/python3.11/site-packages (from python-dateutil>=2.7->matplotlib!=3.6.1,>=3.1->seaborn) (1.16.0)\n"
     ]
    }
   ],
   "source": [
    "!pip install seaborn"
   ]
  },
  {
   "cell_type": "code",
   "execution_count": 70,
   "metadata": {},
   "outputs": [],
   "source": [
    "# Step 3: Function to query the model with a user query\n",
    "def query_model(query):\n",
    "    # Generate an embedding for the query\n",
    "    query_embedding = model.encode([query])\n",
    "\n",
    "    # Search for the nearest neighbors\n",
    "    distances, indices = nbrs.kneighbors(query_embedding)\n",
    "\n",
    "    # Retrieve the nearest markdown content based on indices\n",
    "    closest_texts = [markdown_content[i] for i in indices[0]]\n",
    "\n",
    "    # Print the results\n",
    "    for i, text in enumerate(closest_texts):\n",
    "        print(f\"Result {i+1}: {text}\\n\")\n"
   ]
  },
  {
   "cell_type": "code",
   "execution_count": 71,
   "metadata": {},
   "outputs": [
    {
     "name": "stdout",
     "output_type": "stream",
     "text": [
      "Result 1: # Market Equilibria\n",
      "\n",
      "We will now explore the relationship between price and quantity of oranges produced between 1924 and 1938. Since the data {cite}`01demand-fruits` is from the 1920s and 1930s, it is important to remember that the prices are much lower than what they would be today because of inflation, competition, innovations, and other factors. For example, in 1924, a ton of oranges would have costed \\$6.63; that same amount in 2019 is \\$100.78. \n",
      "## Finding the Equilibrium\n",
      "\n",
      "An important concept in econmics is the market equilibrium. This is the point at which the demand and supply curves meet and represents the \"optimal\" level of production and price in that market.\n",
      "```{admonition} Definition\n",
      "The **market equilibrium** is the price and quantity at which the demand and supply curves intersect. The price and resulting transaction quantity at the equilibrium is what we would predict to observe in the market.\n",
      "```\n",
      "Let's walk through how to the market equilibrium using the market for oranges as an example.\n",
      "### Data Preprocessing\n",
      "\n",
      "Because we are only examining the relationship between prices and quantity for oranges, we can create a new table with the relevant columns: `Year`, `Orange Price`, and `Orange Unloads`. Here, `Orange Price` is measured in dollars, while `Orange Unloads` is measured in tons.\n",
      "Next, we will rename our columns. In this case, let's rename `Orange Unloads` to `Quantity` and `Orange Price` to `Price` for brevity and understandability. \n",
      "### Visualize the  Relationship\n",
      "\n",
      "Let's first take a look to see what the relationship between price and quantity is. We would expect to see a downward-sloping relationship between price and quantity; if a product's price increases, consumers will purchase less, and if a product's price decreases, then consumers will purchase more. \n",
      "\n",
      "We will create a scatterplot between the points.\n",
      "\n",
      "[Following image is a scatter plot for demand for oranges]\n",
      "The visualization shows a negative relationship between quantity and price, which is in line with our expectations: as the price increases, fewer consumers will purchase oranges, so the quantity demanded will decrease. This corresponds to a leftward movement along the demand curve. Alternatively, as the price decreases, the quantity sold will increase because consumers want to maximize their purchasing power and buy more oranges; this is shown by a rightward movement along the curve.\n",
      "### Fit a Polynomial\n",
      "\n",
      "We will now quantify our demand curve using NumPy's [`np.polyfit` function](https://numpy.org/doc/stable/reference/generated/numpy.polyfit.html). Recall that `np.polyfit` returns an array of size 2, where the first element is the slope and the second is the $y$-intercept.\n",
      "\n",
      "For this exercise, we will be expressing demand and supply as quantities in terms of price. \n",
      "This shows that the demand curve is $D(P) = -3433 P+ 53626$. The slope is -3433 and $y$-intercept is 53626. That means that as price increases by 1 unit (in this case, \\$1), quantity decreases by 3433 units (in this case, 3433 tons). \n",
      "\n",
      "### Create the Demand Curve\n",
      "\n",
      "We will now use SymPy to write out this demand curve. To do so, we start by creating a symbol `P` that we can use to create the equation.\n",
      "### Create the Supply Curve\n",
      "\n",
      "As you've learned, the supply curve is the relationship between the price of a good or service and the quantity of that good or service that the seller is willing to supply. It shows how much of a good suppliers are willing and able to supply at different prices. In this case, as the price of the oranges increases, the quantity of oranges that orange manufacturers are willing to supply increases. They capture the producer's side of market decisions and are upward-sloping.\n",
      "\n",
      "Let's now assume that the supply curve is given by $S(P) = 4348P$. (Note that this supply curve is not based on data.)\n",
      " This means that as the price of oranges increases by 1, the quantity supplied increases by 4348. At a price of 0, no oranges are supplied.\n",
      "### Find the Price Equilibrium\n",
      "\n",
      "With the supply and demand curves known, we can solve the for equilibrium. \n",
      "The equilibrium is the point where the supply curve and demand curve intersect, and denotes the price and quantity of the good transacted in the market.\n",
      "\n",
      "The equilbrium consists of 2 components: the quantity equilbrium and price equilbrium. \n",
      "The price equilibrium is the price at which the supply curve and demand curve intersect: the price of the good that consumers desire to purchase at is equivalent to the price of the good that producers want to sell at. There is no shortage of surplus of the product at this price.\n",
      "\n",
      "\n",
      "Let's find the price equilibrium. To do this, we will use the provided `solve` function. This is a custom function that leverages some SymPy magic and will be provided to you in assignments.\n",
      "This means that the price of oranges that consumers want to purchase at and producers want to provide is about \\$6.89. \n",
      "### Find the Quantity Equilibrium\n",
      "\n",
      "Similarly, the quantity equilibrium is the quantity of the good that consumers desire to purchase is equivalent to the quantity of the good that producers supply; there is no shortage or surplus of the good at this quantity. \n",
      "\n",
      "\n",
      "This means that the number of tons of oranges that consumers want to purchase and producers want to provide in this market is about 29,967 tons of oranges. \n",
      "### Visualize the Market Equilibrium \n",
      "\n",
      "Now that we have our demand and supply curves and price and quantity equilibria, we can visualize them on a graph to see what they look like. \n",
      "\n",
      "There are 2 pre-made functions we will use: `plot_equation` and `plot_intercept`.\n",
      "- `plot_equation`: It takes in the equation we made previously (either demand or supply) and visualizes the equations between the different prices we give it\n",
      "- `plot_intercept`: It takes in two different equations (demand and supply), finds the point at which the two intersect, and creates a scatter plot of the result\n",
      "We can leverage these functions and the equations we made earlier to create a graph that shows the market equilibrium.\n",
      "\n",
      "[Following image is a scatter plot for supply and demand for oranges]\n",
      "You can also practice on your own and download additional data sets [here](http://users.stat.ufl.edu/~winner/datasets.html), courtesy of the University of Flordia's Statistics Department. \n",
      "## Movements Away from Equilibrium\n",
      "\n",
      "What happens to market equilibrium when either supply or demand shifts due to an exogenous shock?\n",
      "\n",
      "Let's assume that consumers now prefer Green Tea as their hot beverage of choice moreso than before. We have an outward shift of the demand curve - quantity demanded is greater at every price. The market is no longer in equilibrium.\n",
      "\n",
      "[Following image is a hand drawn diagram of a shift in demand]\n",
      "```{figure} fig1-demand.png\n",
      "---\n",
      "width: 500px\n",
      "name: demand-shift\n",
      "---\n",
      "A shift in the demand curve\n",
      "```\n",
      "![title](fig1-demand.png)\n",
      "At the same price level (the former equilibrium price), there is a shortage of Green Tea. The amount demanded by consumers exceeds that supplied by producers: $Q_D > Q_S$. This is a seller's market, as the excess quantity demanded gives producers leverage (or market power) over consumers. They are able to increase the price of Green Tea to clear the shortage. As prices increase, consumers who were willing and able to purchase tea at the previous equilibrium price would leave the market, reducing quantity demanded. $Q_S$ and $Q_D$ move up along their respective curves until the new equilibrium is achieved where $Q_S = Q_D$. \n",
      "\n",
      "This dual effect of increasing $Q_S$ and $Q_D$ is sometimes referred to as the \"invisible hand\". Sans government intervention, it clears out the shortage or surplus in the market, resulting in the eventual convergence to a new equilibrium level of quantity $Q^*$ and price $P^*$.\n",
      " \n",
      "\n",
      "Result 2: # Market Equilibria\n",
      "\n",
      "We will now explore the relationship between price and quantity of oranges produced between 1924 and 1938. Since the data {cite}`01demand-fruits` is from the 1920s and 1930s, it is important to remember that the prices are much lower than what they would be today because of inflation, competition, innovations, and other factors. For example, in 1924, a ton of oranges would have costed \\$6.63; that same amount in 2019 is \\$100.78. \n",
      "## Finding the Equilibrium\n",
      "\n",
      "An important concept in econmics is the market equilibrium. This is the point at which the demand and supply curves meet and represents the \"optimal\" level of production and price in that market.\n",
      "```{admonition} Definition\n",
      "The **market equilibrium** is the price and quantity at which the demand and supply curves intersect. The price and resulting transaction quantity at the equilibrium is what we would predict to observe in the market.\n",
      "```\n",
      "Let's walk through how to the market equilibrium using the market for oranges as an example.\n",
      "### Data Preprocessing\n",
      "\n",
      "Because we are only examining the relationship between prices and quantity for oranges, we can create a new table with the relevant columns: `Year`, `Orange Price`, and `Orange Unloads`. Here, `Orange Price` is measured in dollars, while `Orange Unloads` is measured in tons.\n",
      "Next, we will rename our columns. In this case, let's rename `Orange Unloads` to `Quantity` and `Orange Price` to `Price` for brevity and understandability. \n",
      "### Visualize the  Relationship\n",
      "\n",
      "Let's first take a look to see what the relationship between price and quantity is. We would expect to see a downward-sloping relationship between price and quantity; if a product's price increases, consumers will purchase less, and if a product's price decreases, then consumers will purchase more. \n",
      "\n",
      "We will create a scatterplot between the points.\n",
      "\n",
      "[Following image is a scatter plot for demand for oranges]\n",
      "The visualization shows a negative relationship between quantity and price, which is in line with our expectations: as the price increases, fewer consumers will purchase oranges, so the quantity demanded will decrease. This corresponds to a leftward movement along the demand curve. Alternatively, as the price decreases, the quantity sold will increase because consumers want to maximize their purchasing power and buy more oranges; this is shown by a rightward movement along the curve.\n",
      "### Fit a Polynomial\n",
      "\n",
      "We will now quantify our demand curve using NumPy's [`np.polyfit` function](https://numpy.org/doc/stable/reference/generated/numpy.polyfit.html). Recall that `np.polyfit` returns an array of size 2, where the first element is the slope and the second is the $y$-intercept.\n",
      "\n",
      "For this exercise, we will be expressing demand and supply as quantities in terms of price. \n",
      "This shows that the demand curve is $D(P) = -3433 P+ 53626$. The slope is -3433 and $y$-intercept is 53626. That means that as price increases by 1 unit (in this case, \\$1), quantity decreases by 3433 units (in this case, 3433 tons). \n",
      "\n",
      "### Create the Demand Curve\n",
      "\n",
      "We will now use SymPy to write out this demand curve. To do so, we start by creating a symbol `P` that we can use to create the equation.\n",
      "### Create the Supply Curve\n",
      "\n",
      "As you've learned, the supply curve is the relationship between the price of a good or service and the quantity of that good or service that the seller is willing to supply. It shows how much of a good suppliers are willing and able to supply at different prices. In this case, as the price of the oranges increases, the quantity of oranges that orange manufacturers are willing to supply increases. They capture the producer's side of market decisions and are upward-sloping.\n",
      "\n",
      "Let's now assume that the supply curve is given by $S(P) = 4348P$. (Note that this supply curve is not based on data.)\n",
      " This means that as the price of oranges increases by 1, the quantity supplied increases by 4348. At a price of 0, no oranges are supplied.\n",
      "### Find the Price Equilibrium\n",
      "\n",
      "With the supply and demand curves known, we can solve the for equilibrium. \n",
      "The equilibrium is the point where the supply curve and demand curve intersect, and denotes the price and quantity of the good transacted in the market.\n",
      "\n",
      "The equilbrium consists of 2 components: the quantity equilbrium and price equilbrium. \n",
      "The price equilibrium is the price at which the supply curve and demand curve intersect: the price of the good that consumers desire to purchase at is equivalent to the price of the good that producers want to sell at. There is no shortage of surplus of the product at this price.\n",
      "\n",
      "\n",
      "Let's find the price equilibrium. To do this, we will use the provided `solve` function. This is a custom function that leverages some SymPy magic and will be provided to you in assignments.\n",
      "This means that the price of oranges that consumers want to purchase at and producers want to provide is about \\$6.89. \n",
      "### Find the Quantity Equilibrium\n",
      "\n",
      "Similarly, the quantity equilibrium is the quantity of the good that consumers desire to purchase is equivalent to the quantity of the good that producers supply; there is no shortage or surplus of the good at this quantity. \n",
      "\n",
      "\n",
      "This means that the number of tons of oranges that consumers want to purchase and producers want to provide in this market is about 29,967 tons of oranges. \n",
      "### Visualize the Market Equilibrium \n",
      "\n",
      "Now that we have our demand and supply curves and price and quantity equilibria, we can visualize them on a graph to see what they look like. \n",
      "\n",
      "There are 2 pre-made functions we will use: `plot_equation` and `plot_intercept`.\n",
      "- `plot_equation`: It takes in the equation we made previously (either demand or supply) and visualizes the equations between the different prices we give it\n",
      "- `plot_intercept`: It takes in two different equations (demand and supply), finds the point at which the two intersect, and creates a scatter plot of the result\n",
      "We can leverage these functions and the equations we made earlier to create a graph that shows the market equilibrium.\n",
      "\n",
      "[Following image is a scatter plot for supply and demand for oranges]\n",
      "You can also practice on your own and download additional data sets [here](http://users.stat.ufl.edu/~winner/datasets.html), courtesy of the University of Flordia's Statistics Department. \n",
      "## Movements Away from Equilibrium\n",
      "\n",
      "What happens to market equilibrium when either supply or demand shifts due to an exogenous shock?\n",
      "\n",
      "Let's assume that consumers now prefer Green Tea as their hot beverage of choice moreso than before. We have an outward shift of the demand curve - quantity demanded is greater at every price. The market is no longer in equilibrium.\n",
      "\n",
      "[Following image is a hand drawn diagram of a shift in demand]\n",
      "```{figure} fig1-demand.png\n",
      "---\n",
      "width: 500px\n",
      "name: demand-shift\n",
      "---\n",
      "A shift in the demand curve\n",
      "```\n",
      "![title](fig1-demand.png)\n",
      "At the same price level (the former equilibrium price), there is a shortage of Green Tea. The amount demanded by consumers exceeds that supplied by producers: $Q_D > Q_S$. This is a seller's market, as the excess quantity demanded gives producers leverage (or market power) over consumers. They are able to increase the price of Green Tea to clear the shortage. As prices increase, consumers who were willing and able to purchase tea at the previous equilibrium price would leave the market, reducing quantity demanded. $Q_S$ and $Q_D$ move up along their respective curves until the new equilibrium is achieved where $Q_S = Q_D$. \n",
      "\n",
      "This dual effect of increasing $Q_S$ and $Q_D$ is sometimes referred to as the \"invisible hand\". Sans government intervention, it clears out the shortage or surplus in the market, resulting in the eventual convergence to a new equilibrium level of quantity $Q^*$ and price $P^*$.\n",
      " \n",
      "\n",
      "Result 3: # Market Equilibria\n",
      "\n",
      "We will now explore the relationship between price and quantity of oranges produced between 1924 and 1938. Since the data {cite}`01demand-fruits` is from the 1920s and 1930s, it is important to remember that the prices are much lower than what they would be today because of inflation, competition, innovations, and other factors. For example, in 1924, a ton of oranges would have costed \\$6.63; that same amount in 2019 is \\$100.78. \n",
      "## Finding the Equilibrium\n",
      "\n",
      "An important concept in econmics is the market equilibrium. This is the point at which the demand and supply curves meet and represents the \"optimal\" level of production and price in that market.\n",
      "```{admonition} Definition\n",
      "The **market equilibrium** is the price and quantity at which the demand and supply curves intersect. The price and resulting transaction quantity at the equilibrium is what we would predict to observe in the market.\n",
      "```\n",
      "Let's walk through how to the market equilibrium using the market for oranges as an example.\n",
      "### Data Preprocessing\n",
      "\n",
      "Because we are only examining the relationship between prices and quantity for oranges, we can create a new table with the relevant columns: `Year`, `Orange Price`, and `Orange Unloads`. Here, `Orange Price` is measured in dollars, while `Orange Unloads` is measured in tons.\n",
      "Next, we will rename our columns. In this case, let's rename `Orange Unloads` to `Quantity` and `Orange Price` to `Price` for brevity and understandability. \n",
      "### Visualize the  Relationship\n",
      "\n",
      "Let's first take a look to see what the relationship between price and quantity is. We would expect to see a downward-sloping relationship between price and quantity; if a product's price increases, consumers will purchase less, and if a product's price decreases, then consumers will purchase more. \n",
      "\n",
      "We will create a scatterplot between the points.\n",
      "\n",
      "[Following image is a scatter plot for demand for oranges]\n",
      "The visualization shows a negative relationship between quantity and price, which is in line with our expectations: as the price increases, fewer consumers will purchase oranges, so the quantity demanded will decrease. This corresponds to a leftward movement along the demand curve. Alternatively, as the price decreases, the quantity sold will increase because consumers want to maximize their purchasing power and buy more oranges; this is shown by a rightward movement along the curve.\n",
      "### Fit a Polynomial\n",
      "\n",
      "We will now quantify our demand curve using NumPy's [`np.polyfit` function](https://numpy.org/doc/stable/reference/generated/numpy.polyfit.html). Recall that `np.polyfit` returns an array of size 2, where the first element is the slope and the second is the $y$-intercept.\n",
      "\n",
      "For this exercise, we will be expressing demand and supply as quantities in terms of price. \n",
      "This shows that the demand curve is $D(P) = -3433 P+ 53626$. The slope is -3433 and $y$-intercept is 53626. That means that as price increases by 1 unit (in this case, \\$1), quantity decreases by 3433 units (in this case, 3433 tons). \n",
      "\n",
      "### Create the Demand Curve\n",
      "\n",
      "We will now use SymPy to write out this demand curve. To do so, we start by creating a symbol `P` that we can use to create the equation.\n",
      "### Create the Supply Curve\n",
      "\n",
      "As you've learned, the supply curve is the relationship between the price of a good or service and the quantity of that good or service that the seller is willing to supply. It shows how much of a good suppliers are willing and able to supply at different prices. In this case, as the price of the oranges increases, the quantity of oranges that orange manufacturers are willing to supply increases. They capture the producer's side of market decisions and are upward-sloping.\n",
      "\n",
      "Let's now assume that the supply curve is given by $S(P) = 4348P$. (Note that this supply curve is not based on data.)\n",
      " This means that as the price of oranges increases by 1, the quantity supplied increases by 4348. At a price of 0, no oranges are supplied.\n",
      "### Find the Price Equilibrium\n",
      "\n",
      "With the supply and demand curves known, we can solve the for equilibrium. \n",
      "The equilibrium is the point where the supply curve and demand curve intersect, and denotes the price and quantity of the good transacted in the market.\n",
      "\n",
      "The equilbrium consists of 2 components: the quantity equilbrium and price equilbrium. \n",
      "The price equilibrium is the price at which the supply curve and demand curve intersect: the price of the good that consumers desire to purchase at is equivalent to the price of the good that producers want to sell at. There is no shortage of surplus of the product at this price.\n",
      "\n",
      "\n",
      "Let's find the price equilibrium. To do this, we will use the provided `solve` function. This is a custom function that leverages some SymPy magic and will be provided to you in assignments.\n",
      "This means that the price of oranges that consumers want to purchase at and producers want to provide is about \\$6.89. \n",
      "### Find the Quantity Equilibrium\n",
      "\n",
      "Similarly, the quantity equilibrium is the quantity of the good that consumers desire to purchase is equivalent to the quantity of the good that producers supply; there is no shortage or surplus of the good at this quantity. \n",
      "\n",
      "\n",
      "This means that the number of tons of oranges that consumers want to purchase and producers want to provide in this market is about 29,967 tons of oranges. \n",
      "### Visualize the Market Equilibrium \n",
      "\n",
      "Now that we have our demand and supply curves and price and quantity equilibria, we can visualize them on a graph to see what they look like. \n",
      "\n",
      "There are 2 pre-made functions we will use: `plot_equation` and `plot_intercept`.\n",
      "- `plot_equation`: It takes in the equation we made previously (either demand or supply) and visualizes the equations between the different prices we give it\n",
      "- `plot_intercept`: It takes in two different equations (demand and supply), finds the point at which the two intersect, and creates a scatter plot of the result\n",
      "We can leverage these functions and the equations we made earlier to create a graph that shows the market equilibrium.\n",
      "\n",
      "[Following image is a scatter plot for supply and demand for oranges]\n",
      "You can also practice on your own and download additional data sets [here](http://users.stat.ufl.edu/~winner/datasets.html), courtesy of the University of Flordia's Statistics Department. \n",
      "## Movements Away from Equilibrium\n",
      "\n",
      "What happens to market equilibrium when either supply or demand shifts due to an exogenous shock?\n",
      "\n",
      "Let's assume that consumers now prefer Green Tea as their hot beverage of choice moreso than before. We have an outward shift of the demand curve - quantity demanded is greater at every price. The market is no longer in equilibrium.\n",
      "\n",
      "[Following image is a hand drawn diagram of a shift in demand]\n",
      "```{figure} fig1-demand.png\n",
      "---\n",
      "width: 500px\n",
      "name: demand-shift\n",
      "---\n",
      "A shift in the demand curve\n",
      "```\n",
      "![title](fig1-demand.png)\n",
      "At the same price level (the former equilibrium price), there is a shortage of Green Tea. The amount demanded by consumers exceeds that supplied by producers: $Q_D > Q_S$. This is a seller's market, as the excess quantity demanded gives producers leverage (or market power) over consumers. They are able to increase the price of Green Tea to clear the shortage. As prices increase, consumers who were willing and able to purchase tea at the previous equilibrium price would leave the market, reducing quantity demanded. $Q_S$ and $Q_D$ move up along their respective curves until the new equilibrium is achieved where $Q_S = Q_D$. \n",
      "\n",
      "This dual effect of increasing $Q_S$ and $Q_D$ is sometimes referred to as the \"invisible hand\". Sans government intervention, it clears out the shortage or surplus in the market, resulting in the eventual convergence to a new equilibrium level of quantity $Q^*$ and price $P^*$.\n",
      " \n",
      "\n",
      "Result 4: # Market Equilibria\n",
      "\n",
      "We will now explore the relationship between price and quantity of oranges produced between 1924 and 1938. Since the data {cite}`01demand-fruits` is from the 1920s and 1930s, it is important to remember that the prices are much lower than what they would be today because of inflation, competition, innovations, and other factors. For example, in 1924, a ton of oranges would have costed \\$6.63; that same amount in 2019 is \\$100.78. \n",
      "## Finding the Equilibrium\n",
      "\n",
      "An important concept in econmics is the market equilibrium. This is the point at which the demand and supply curves meet and represents the \"optimal\" level of production and price in that market.\n",
      "```{admonition} Definition\n",
      "The **market equilibrium** is the price and quantity at which the demand and supply curves intersect. The price and resulting transaction quantity at the equilibrium is what we would predict to observe in the market.\n",
      "```\n",
      "Let's walk through how to the market equilibrium using the market for oranges as an example.\n",
      "### Data Preprocessing\n",
      "\n",
      "Because we are only examining the relationship between prices and quantity for oranges, we can create a new table with the relevant columns: `Year`, `Orange Price`, and `Orange Unloads`. Here, `Orange Price` is measured in dollars, while `Orange Unloads` is measured in tons.\n",
      "Next, we will rename our columns. In this case, let's rename `Orange Unloads` to `Quantity` and `Orange Price` to `Price` for brevity and understandability. \n",
      "### Visualize the  Relationship\n",
      "\n",
      "Let's first take a look to see what the relationship between price and quantity is. We would expect to see a downward-sloping relationship between price and quantity; if a product's price increases, consumers will purchase less, and if a product's price decreases, then consumers will purchase more. \n",
      "\n",
      "We will create a scatterplot between the points.\n",
      "\n",
      "[Following image is a scatter plot for demand for oranges]\n",
      "The visualization shows a negative relationship between quantity and price, which is in line with our expectations: as the price increases, fewer consumers will purchase oranges, so the quantity demanded will decrease. This corresponds to a leftward movement along the demand curve. Alternatively, as the price decreases, the quantity sold will increase because consumers want to maximize their purchasing power and buy more oranges; this is shown by a rightward movement along the curve.\n",
      "### Fit a Polynomial\n",
      "\n",
      "We will now quantify our demand curve using NumPy's [`np.polyfit` function](https://numpy.org/doc/stable/reference/generated/numpy.polyfit.html). Recall that `np.polyfit` returns an array of size 2, where the first element is the slope and the second is the $y$-intercept.\n",
      "\n",
      "For this exercise, we will be expressing demand and supply as quantities in terms of price. \n",
      "This shows that the demand curve is $D(P) = -3433 P+ 53626$. The slope is -3433 and $y$-intercept is 53626. That means that as price increases by 1 unit (in this case, \\$1), quantity decreases by 3433 units (in this case, 3433 tons). \n",
      "\n",
      "### Create the Demand Curve\n",
      "\n",
      "We will now use SymPy to write out this demand curve. To do so, we start by creating a symbol `P` that we can use to create the equation.\n",
      "### Create the Supply Curve\n",
      "\n",
      "As you've learned, the supply curve is the relationship between the price of a good or service and the quantity of that good or service that the seller is willing to supply. It shows how much of a good suppliers are willing and able to supply at different prices. In this case, as the price of the oranges increases, the quantity of oranges that orange manufacturers are willing to supply increases. They capture the producer's side of market decisions and are upward-sloping.\n",
      "\n",
      "Let's now assume that the supply curve is given by $S(P) = 4348P$. (Note that this supply curve is not based on data.)\n",
      " This means that as the price of oranges increases by 1, the quantity supplied increases by 4348. At a price of 0, no oranges are supplied.\n",
      "### Find the Price Equilibrium\n",
      "\n",
      "With the supply and demand curves known, we can solve the for equilibrium. \n",
      "The equilibrium is the point where the supply curve and demand curve intersect, and denotes the price and quantity of the good transacted in the market.\n",
      "\n",
      "The equilbrium consists of 2 components: the quantity equilbrium and price equilbrium. \n",
      "The price equilibrium is the price at which the supply curve and demand curve intersect: the price of the good that consumers desire to purchase at is equivalent to the price of the good that producers want to sell at. There is no shortage of surplus of the product at this price.\n",
      "\n",
      "\n",
      "Let's find the price equilibrium. To do this, we will use the provided `solve` function. This is a custom function that leverages some SymPy magic and will be provided to you in assignments.\n",
      "This means that the price of oranges that consumers want to purchase at and producers want to provide is about \\$6.89. \n",
      "### Find the Quantity Equilibrium\n",
      "\n",
      "Similarly, the quantity equilibrium is the quantity of the good that consumers desire to purchase is equivalent to the quantity of the good that producers supply; there is no shortage or surplus of the good at this quantity. \n",
      "\n",
      "\n",
      "This means that the number of tons of oranges that consumers want to purchase and producers want to provide in this market is about 29,967 tons of oranges. \n",
      "### Visualize the Market Equilibrium \n",
      "\n",
      "Now that we have our demand and supply curves and price and quantity equilibria, we can visualize them on a graph to see what they look like. \n",
      "\n",
      "There are 2 pre-made functions we will use: `plot_equation` and `plot_intercept`.\n",
      "- `plot_equation`: It takes in the equation we made previously (either demand or supply) and visualizes the equations between the different prices we give it\n",
      "- `plot_intercept`: It takes in two different equations (demand and supply), finds the point at which the two intersect, and creates a scatter plot of the result\n",
      "We can leverage these functions and the equations we made earlier to create a graph that shows the market equilibrium.\n",
      "\n",
      "[Following image is a scatter plot for supply and demand for oranges]\n",
      "You can also practice on your own and download additional data sets [here](http://users.stat.ufl.edu/~winner/datasets.html), courtesy of the University of Flordia's Statistics Department. \n",
      "## Movements Away from Equilibrium\n",
      "\n",
      "What happens to market equilibrium when either supply or demand shifts due to an exogenous shock?\n",
      "\n",
      "Let's assume that consumers now prefer Green Tea as their hot beverage of choice moreso than before. We have an outward shift of the demand curve - quantity demanded is greater at every price. The market is no longer in equilibrium.\n",
      "\n",
      "[Following image is a hand drawn diagram of a shift in demand]\n",
      "```{figure} fig1-demand.png\n",
      "---\n",
      "width: 500px\n",
      "name: demand-shift\n",
      "---\n",
      "A shift in the demand curve\n",
      "```\n",
      "![title](fig1-demand.png)\n",
      "At the same price level (the former equilibrium price), there is a shortage of Green Tea. The amount demanded by consumers exceeds that supplied by producers: $Q_D > Q_S$. This is a seller's market, as the excess quantity demanded gives producers leverage (or market power) over consumers. They are able to increase the price of Green Tea to clear the shortage. As prices increase, consumers who were willing and able to purchase tea at the previous equilibrium price would leave the market, reducing quantity demanded. $Q_S$ and $Q_D$ move up along their respective curves until the new equilibrium is achieved where $Q_S = Q_D$. \n",
      "\n",
      "This dual effect of increasing $Q_S$ and $Q_D$ is sometimes referred to as the \"invisible hand\". Sans government intervention, it clears out the shortage or surplus in the market, resulting in the eventual convergence to a new equilibrium level of quantity $Q^*$ and price $P^*$.\n",
      " \n",
      "\n",
      "Result 5: # Market Equilibria\n",
      "\n",
      "We will now explore the relationship between price and quantity of oranges produced between 1924 and 1938. Since the data {cite}`01demand-fruits` is from the 1920s and 1930s, it is important to remember that the prices are much lower than what they would be today because of inflation, competition, innovations, and other factors. For example, in 1924, a ton of oranges would have costed \\$6.63; that same amount in 2019 is \\$100.78. \n",
      "## Finding the Equilibrium\n",
      "\n",
      "An important concept in econmics is the market equilibrium. This is the point at which the demand and supply curves meet and represents the \"optimal\" level of production and price in that market.\n",
      "```{admonition} Definition\n",
      "The **market equilibrium** is the price and quantity at which the demand and supply curves intersect. The price and resulting transaction quantity at the equilibrium is what we would predict to observe in the market.\n",
      "```\n",
      "Let's walk through how to the market equilibrium using the market for oranges as an example.\n",
      "### Data Preprocessing\n",
      "\n",
      "Because we are only examining the relationship between prices and quantity for oranges, we can create a new table with the relevant columns: `Year`, `Orange Price`, and `Orange Unloads`. Here, `Orange Price` is measured in dollars, while `Orange Unloads` is measured in tons.\n",
      "Next, we will rename our columns. In this case, let's rename `Orange Unloads` to `Quantity` and `Orange Price` to `Price` for brevity and understandability. \n",
      "### Visualize the  Relationship\n",
      "\n",
      "Let's first take a look to see what the relationship between price and quantity is. We would expect to see a downward-sloping relationship between price and quantity; if a product's price increases, consumers will purchase less, and if a product's price decreases, then consumers will purchase more. \n",
      "\n",
      "We will create a scatterplot between the points.\n",
      "\n",
      "[Following image is a scatter plot for demand for oranges]\n",
      "The visualization shows a negative relationship between quantity and price, which is in line with our expectations: as the price increases, fewer consumers will purchase oranges, so the quantity demanded will decrease. This corresponds to a leftward movement along the demand curve. Alternatively, as the price decreases, the quantity sold will increase because consumers want to maximize their purchasing power and buy more oranges; this is shown by a rightward movement along the curve.\n",
      "### Fit a Polynomial\n",
      "\n",
      "We will now quantify our demand curve using NumPy's [`np.polyfit` function](https://numpy.org/doc/stable/reference/generated/numpy.polyfit.html). Recall that `np.polyfit` returns an array of size 2, where the first element is the slope and the second is the $y$-intercept.\n",
      "\n",
      "For this exercise, we will be expressing demand and supply as quantities in terms of price. \n",
      "This shows that the demand curve is $D(P) = -3433 P+ 53626$. The slope is -3433 and $y$-intercept is 53626. That means that as price increases by 1 unit (in this case, \\$1), quantity decreases by 3433 units (in this case, 3433 tons). \n",
      "\n",
      "### Create the Demand Curve\n",
      "\n",
      "We will now use SymPy to write out this demand curve. To do so, we start by creating a symbol `P` that we can use to create the equation.\n",
      "### Create the Supply Curve\n",
      "\n",
      "As you've learned, the supply curve is the relationship between the price of a good or service and the quantity of that good or service that the seller is willing to supply. It shows how much of a good suppliers are willing and able to supply at different prices. In this case, as the price of the oranges increases, the quantity of oranges that orange manufacturers are willing to supply increases. They capture the producer's side of market decisions and are upward-sloping.\n",
      "\n",
      "Let's now assume that the supply curve is given by $S(P) = 4348P$. (Note that this supply curve is not based on data.)\n",
      " This means that as the price of oranges increases by 1, the quantity supplied increases by 4348. At a price of 0, no oranges are supplied.\n",
      "### Find the Price Equilibrium\n",
      "\n",
      "With the supply and demand curves known, we can solve the for equilibrium. \n",
      "The equilibrium is the point where the supply curve and demand curve intersect, and denotes the price and quantity of the good transacted in the market.\n",
      "\n",
      "The equilbrium consists of 2 components: the quantity equilbrium and price equilbrium. \n",
      "The price equilibrium is the price at which the supply curve and demand curve intersect: the price of the good that consumers desire to purchase at is equivalent to the price of the good that producers want to sell at. There is no shortage of surplus of the product at this price.\n",
      "\n",
      "\n",
      "Let's find the price equilibrium. To do this, we will use the provided `solve` function. This is a custom function that leverages some SymPy magic and will be provided to you in assignments.\n",
      "This means that the price of oranges that consumers want to purchase at and producers want to provide is about \\$6.89. \n",
      "### Find the Quantity Equilibrium\n",
      "\n",
      "Similarly, the quantity equilibrium is the quantity of the good that consumers desire to purchase is equivalent to the quantity of the good that producers supply; there is no shortage or surplus of the good at this quantity. \n",
      "\n",
      "\n",
      "This means that the number of tons of oranges that consumers want to purchase and producers want to provide in this market is about 29,967 tons of oranges. \n",
      "### Visualize the Market Equilibrium \n",
      "\n",
      "Now that we have our demand and supply curves and price and quantity equilibria, we can visualize them on a graph to see what they look like. \n",
      "\n",
      "There are 2 pre-made functions we will use: `plot_equation` and `plot_intercept`.\n",
      "- `plot_equation`: It takes in the equation we made previously (either demand or supply) and visualizes the equations between the different prices we give it\n",
      "- `plot_intercept`: It takes in two different equations (demand and supply), finds the point at which the two intersect, and creates a scatter plot of the result\n",
      "We can leverage these functions and the equations we made earlier to create a graph that shows the market equilibrium.\n",
      "\n",
      "[Following image is a scatter plot for supply and demand for oranges]\n",
      "You can also practice on your own and download additional data sets [here](http://users.stat.ufl.edu/~winner/datasets.html), courtesy of the University of Flordia's Statistics Department. \n",
      "## Movements Away from Equilibrium\n",
      "\n",
      "What happens to market equilibrium when either supply or demand shifts due to an exogenous shock?\n",
      "\n",
      "Let's assume that consumers now prefer Green Tea as their hot beverage of choice moreso than before. We have an outward shift of the demand curve - quantity demanded is greater at every price. The market is no longer in equilibrium.\n",
      "\n",
      "[Following image is a hand drawn diagram of a shift in demand]\n",
      "```{figure} fig1-demand.png\n",
      "---\n",
      "width: 500px\n",
      "name: demand-shift\n",
      "---\n",
      "A shift in the demand curve\n",
      "```\n",
      "![title](fig1-demand.png)\n",
      "At the same price level (the former equilibrium price), there is a shortage of Green Tea. The amount demanded by consumers exceeds that supplied by producers: $Q_D > Q_S$. This is a seller's market, as the excess quantity demanded gives producers leverage (or market power) over consumers. They are able to increase the price of Green Tea to clear the shortage. As prices increase, consumers who were willing and able to purchase tea at the previous equilibrium price would leave the market, reducing quantity demanded. $Q_S$ and $Q_D$ move up along their respective curves until the new equilibrium is achieved where $Q_S = Q_D$. \n",
      "\n",
      "This dual effect of increasing $Q_S$ and $Q_D$ is sometimes referred to as the \"invisible hand\". Sans government intervention, it clears out the shortage or surplus in the market, resulting in the eventual convergence to a new equilibrium level of quantity $Q^*$ and price $P^*$.\n",
      " \n",
      "\n"
     ]
    }
   ],
   "source": [
    "# Example query\n",
    "query_model(\"What is the supply and demand equilibrium?\")"
   ]
  },
  {
   "cell_type": "markdown",
   "metadata": {},
   "source": [
    "$$\n",
    "\\begin{align*}\n",
    "    \\pi_2 = -1.89q_2^2-1.89q_1q_2+148.89q_2 - cq_2\n",
    "\\end{align*}\n",
    "$$\n",
    "\n",
    "Now we will take the partial derivative to find the best response functions for both players. For firm 1 this looks like:\n",
    "\n",
    "$$\n",
    "\\begin{align*}\n",
    "    \\frac{\\partial{\\pi_1}}{\\partial{q_1}}= -3.78q_1 - 1.89q_2+148.89 - 100 = 0\\\\\n",
    "    q_1 = \\frac{48.89-1.89q_2}{3.78}\n",
    "\\end{align*}\n",
    "\\\n",
    "$$\n",
    "\n",
    "For firm 2 this looks like:\n",
    "\n",
    "$$\n",
    "\\begin{align*}\n",
    "    \\frac{\\partial{\\pi_2}}{\\partial{q_2}}= -3.78q_2 - 1.89q_1+148.89 - 100 = 0\\\\\n",
    "    q_2 = \\frac{48.89-1.89q_1}{3.78}\n",
    "\\end{align*}\n",
    "$$\n",
    "\n",
    "Now while you can solve this algebraically, it takes much longer and leaves a lot of room for error, so as data scientists we will use Python to solve this problem."
   ]
  },
  {
   "cell_type": "markdown",
   "metadata": {},
   "source": [
    "## These chunks are too big!  Lets refine this to work on sentences instead of markdown cells generall1y\n"
   ]
  },
  {
   "cell_type": "code",
   "execution_count": 72,
   "metadata": {},
   "outputs": [
    {
     "name": "stderr",
     "output_type": "stream",
     "text": [
      "huggingface/tokenizers: The current process just got forked, after parallelism has already been used. Disabling parallelism to avoid deadlocks...\n",
      "To disable this warning, you can either:\n",
      "\t- Avoid using `tokenizers` before the fork if possible\n",
      "\t- Explicitly set the environment variable TOKENIZERS_PARALLELISM=(true | false)\n"
     ]
    },
    {
     "name": "stdout",
     "output_type": "stream",
     "text": [
      "Requirement already satisfied: nltk in /srv/conda/envs/notebook/lib/python3.11/site-packages (3.9.1)\n",
      "Requirement already satisfied: click in /srv/conda/envs/notebook/lib/python3.11/site-packages (from nltk) (8.1.7)\n",
      "Requirement already satisfied: joblib in /srv/conda/envs/notebook/lib/python3.11/site-packages (from nltk) (1.4.2)\n",
      "Requirement already satisfied: regex>=2021.8.3 in /srv/conda/envs/notebook/lib/python3.11/site-packages (from nltk) (2024.11.6)\n",
      "Requirement already satisfied: tqdm in /srv/conda/envs/notebook/lib/python3.11/site-packages (from nltk) (4.67.0)\n"
     ]
    }
   ],
   "source": [
    "!pip install nltk\n"
   ]
  },
  {
   "cell_type": "code",
   "execution_count": 73,
   "metadata": {},
   "outputs": [
    {
     "name": "stdout",
     "output_type": "stream",
     "text": [
      "3.9.1\n"
     ]
    },
    {
     "name": "stderr",
     "output_type": "stream",
     "text": [
      "[nltk_data] Downloading package punkt_tab to /home/jovyan/nltk_data...\n",
      "[nltk_data]   Package punkt_tab is already up-to-date!\n"
     ]
    }
   ],
   "source": [
    "import nltk\n",
    "nltk.download('punkt_tab')  # Download the tokenizer models\n",
    "from nltk.tokenize import sent_tokenize\n",
    "from nltk.tokenize import word_tokenize\n",
    "\n",
    "# check version of nltk\n",
    "print(nltk.__version__)\n",
    "\n",
    "# Split the text into sentences\n",
    "def split_into_sentences(text):\n",
    "    return sent_tokenize(text)\n",
    "\n"
   ]
  },
  {
   "cell_type": "code",
   "execution_count": 74,
   "metadata": {},
   "outputs": [
    {
     "data": {
      "text/plain": [
       "['My', 'beautiful', 'house', 'is', 'Awesome.', 'My', 'car', 'is', 'too', '.']"
      ]
     },
     "execution_count": 74,
     "metadata": {},
     "output_type": "execute_result"
    }
   ],
   "source": [
    "nltk.word_tokenize('My beautiful house is Awesome. My car is too.', language='english', preserve_line=True)\n"
   ]
  },
  {
   "cell_type": "code",
   "execution_count": 75,
   "metadata": {},
   "outputs": [
    {
     "name": "stdout",
     "output_type": "stream",
     "text": [
      "['The', 'concept', 'of', 'supply', 'and', 'demand', 'is', 'fundamental', 'in', 'economics.', 'It', 'drives', 'market', 'behavior', '.']\n"
     ]
    }
   ],
   "source": [
    "# Example text\n",
    "text = \"The concept of supply and demand is fundamental in economics. It drives market behavior.\"\n",
    "\n",
    "# Tokenize the text into sentences\n",
    "words = nltk.word_tokenize(text, language='english', preserve_line=True)\n",
    "\n",
    "# Print the result\n",
    "print(words)"
   ]
  },
  {
   "cell_type": "code",
   "execution_count": 76,
   "metadata": {},
   "outputs": [
    {
     "data": {
      "text/plain": [
       "['The concept of supply and demand is fundamental in economics.',\n",
       " 'It drives market behavior.']"
      ]
     },
     "execution_count": 76,
     "metadata": {},
     "output_type": "execute_result"
    }
   ],
   "source": [
    "text = \"The concept of supply and demand is fundamental in economics. It drives market behavior.\"\n",
    "\n",
    "#tokenize into sentences\n",
    "sentences = nltk.sent_tokenize(text, language='english')\n",
    "sentences"
   ]
  },
  {
   "cell_type": "code",
   "execution_count": 77,
   "metadata": {},
   "outputs": [
    {
     "name": "stdout",
     "output_type": "stream",
     "text": [
      "['\\nThe concept of supply and demand is fundamental in economics.', 'Supply refers to how much of a product or service is available, while demand refers to how much of that product or service consumers want.', 'When supply is higher than demand, prices tend to drop, and when demand is higher than supply, prices tend to rise.']\n"
     ]
    }
   ],
   "source": [
    "# Function to split text into sentences\n",
    "def split_into_sentences(text):\n",
    "    return sent_tokenize(text)\n",
    "\n",
    "# Example: splitting a paragraph into sentences\n",
    "text = \"\"\"\n",
    "The concept of supply and demand is fundamental in economics. Supply refers to how much of a product or service is available, while demand refers to how much of that product or service consumers want. When supply is higher than demand, prices tend to drop, and when demand is higher than supply, prices tend to rise.\n",
    "\"\"\"\n",
    "sentences = split_into_sentences(text)\n",
    "print(sentences)"
   ]
  },
  {
   "cell_type": "code",
   "execution_count": 78,
   "metadata": {},
   "outputs": [
    {
     "name": "stdout",
     "output_type": "stream",
     "text": [
      "Number of chunks: 13880\n",
      "Shape of embeddings: (13880, 384)\n"
     ]
    }
   ],
   "source": [
    "\n",
    "\n",
    "# Assume `markdown_content` contains the extracted text from your JupyterBook\n",
    "model = SentenceTransformer('all-MiniLM-L6-v2')\n",
    "\n",
    "# Step 1: Chunk the text into sentences (or paragraphs)\n",
    "all_chunks = []\n",
    "for text in markdown_content:\n",
    "    # Use sentence tokenization for more granular embedding creation\n",
    "    chunks = split_into_sentences(text)  # Or use `split_into_paragraphs(text)` for paragraphs\n",
    "    all_chunks.extend(chunks)  # Store the chunks\n",
    "\n",
    "# Step 2: Generate embeddings for each chunk\n",
    "chunk_embeddings = model.encode(all_chunks)  # Encode all chunks\n",
    "\n",
    "print(f\"Number of chunks: {len(all_chunks)}\")\n",
    "print(f\"Shape of embeddings: {chunk_embeddings.shape}\")\n"
   ]
  },
  {
   "cell_type": "code",
   "execution_count": 79,
   "metadata": {},
   "outputs": [],
   "source": [
    "##########################################\n",
    "## This is just too much to plot. -Greg ##\n",
    "##########################################\n",
    "\n",
    "\n",
    "# # Install necessary libraries\n",
    "# !pip install plotly scikit-learn\n",
    "\n",
    "# # Import libraries\n",
    "# import plotly.express as px\n",
    "# from sklearn.manifold import TSNE\n",
    "# import numpy as np\n",
    "# import pandas as pd\n",
    "\n",
    "# # Assuming chunk_embeddings is already defined\n",
    "# # For demonstration, let's create some random embeddings\n",
    "\n",
    "# # Apply t-SNE to reduce dimensions to 3D\n",
    "# tsne = TSNE(n_components=3, random_state=42, perplexity=30, n_iter=3000)\n",
    "# reduced_embeddings = tsne.fit_transform(chunk_embeddings)\n",
    "\n",
    "# # Create a DataFrame for Plotly\n",
    "# df = pd.DataFrame(reduced_embeddings, columns=['Dim1', 'Dim2', 'Dim3'])\n",
    "\n",
    "# # Plot the embeddings using Plotly\n",
    "# fig = px.scatter_3d(df, x='Dim1', y='Dim2', z='Dim3', title='3D t-SNE Visualization of Chunk Embeddings', height=800)\n",
    "# fig.show()"
   ]
  },
  {
   "cell_type": "code",
   "execution_count": null,
   "metadata": {},
   "outputs": [],
   "source": []
  },
  {
   "cell_type": "markdown",
   "metadata": {},
   "source": [
    "### OK now we have tokenized sentences \n",
    "\n",
    "    "
   ]
  },
  {
   "cell_type": "code",
   "execution_count": 80,
   "metadata": {},
   "outputs": [
    {
     "data": {
      "text/html": [
       "<style>#sk-container-id-5 {color: black;background-color: white;}#sk-container-id-5 pre{padding: 0;}#sk-container-id-5 div.sk-toggleable {background-color: white;}#sk-container-id-5 label.sk-toggleable__label {cursor: pointer;display: block;width: 100%;margin-bottom: 0;padding: 0.3em;box-sizing: border-box;text-align: center;}#sk-container-id-5 label.sk-toggleable__label-arrow:before {content: \"▸\";float: left;margin-right: 0.25em;color: #696969;}#sk-container-id-5 label.sk-toggleable__label-arrow:hover:before {color: black;}#sk-container-id-5 div.sk-estimator:hover label.sk-toggleable__label-arrow:before {color: black;}#sk-container-id-5 div.sk-toggleable__content {max-height: 0;max-width: 0;overflow: hidden;text-align: left;background-color: #f0f8ff;}#sk-container-id-5 div.sk-toggleable__content pre {margin: 0.2em;color: black;border-radius: 0.25em;background-color: #f0f8ff;}#sk-container-id-5 input.sk-toggleable__control:checked~div.sk-toggleable__content {max-height: 200px;max-width: 100%;overflow: auto;}#sk-container-id-5 input.sk-toggleable__control:checked~label.sk-toggleable__label-arrow:before {content: \"▾\";}#sk-container-id-5 div.sk-estimator input.sk-toggleable__control:checked~label.sk-toggleable__label {background-color: #d4ebff;}#sk-container-id-5 div.sk-label input.sk-toggleable__control:checked~label.sk-toggleable__label {background-color: #d4ebff;}#sk-container-id-5 input.sk-hidden--visually {border: 0;clip: rect(1px 1px 1px 1px);clip: rect(1px, 1px, 1px, 1px);height: 1px;margin: -1px;overflow: hidden;padding: 0;position: absolute;width: 1px;}#sk-container-id-5 div.sk-estimator {font-family: monospace;background-color: #f0f8ff;border: 1px dotted black;border-radius: 0.25em;box-sizing: border-box;margin-bottom: 0.5em;}#sk-container-id-5 div.sk-estimator:hover {background-color: #d4ebff;}#sk-container-id-5 div.sk-parallel-item::after {content: \"\";width: 100%;border-bottom: 1px solid gray;flex-grow: 1;}#sk-container-id-5 div.sk-label:hover label.sk-toggleable__label {background-color: #d4ebff;}#sk-container-id-5 div.sk-serial::before {content: \"\";position: absolute;border-left: 1px solid gray;box-sizing: border-box;top: 0;bottom: 0;left: 50%;z-index: 0;}#sk-container-id-5 div.sk-serial {display: flex;flex-direction: column;align-items: center;background-color: white;padding-right: 0.2em;padding-left: 0.2em;position: relative;}#sk-container-id-5 div.sk-item {position: relative;z-index: 1;}#sk-container-id-5 div.sk-parallel {display: flex;align-items: stretch;justify-content: center;background-color: white;position: relative;}#sk-container-id-5 div.sk-item::before, #sk-container-id-5 div.sk-parallel-item::before {content: \"\";position: absolute;border-left: 1px solid gray;box-sizing: border-box;top: 0;bottom: 0;left: 50%;z-index: -1;}#sk-container-id-5 div.sk-parallel-item {display: flex;flex-direction: column;z-index: 1;position: relative;background-color: white;}#sk-container-id-5 div.sk-parallel-item:first-child::after {align-self: flex-end;width: 50%;}#sk-container-id-5 div.sk-parallel-item:last-child::after {align-self: flex-start;width: 50%;}#sk-container-id-5 div.sk-parallel-item:only-child::after {width: 0;}#sk-container-id-5 div.sk-dashed-wrapped {border: 1px dashed gray;margin: 0 0.4em 0.5em 0.4em;box-sizing: border-box;padding-bottom: 0.4em;background-color: white;}#sk-container-id-5 div.sk-label label {font-family: monospace;font-weight: bold;display: inline-block;line-height: 1.2em;}#sk-container-id-5 div.sk-label-container {text-align: center;}#sk-container-id-5 div.sk-container {/* jupyter's `normalize.less` sets `[hidden] { display: none; }` but bootstrap.min.css set `[hidden] { display: none !important; }` so we also need the `!important` here to be able to override the default hidden behavior on the sphinx rendered scikit-learn.org. See: https://github.com/scikit-learn/scikit-learn/issues/21755 */display: inline-block !important;position: relative;}#sk-container-id-5 div.sk-text-repr-fallback {display: none;}</style><div id=\"sk-container-id-5\" class=\"sk-top-container\"><div class=\"sk-text-repr-fallback\"><pre>NearestNeighbors(metric=&#x27;cosine&#x27;)</pre><b>In a Jupyter environment, please rerun this cell to show the HTML representation or trust the notebook. <br />On GitHub, the HTML representation is unable to render, please try loading this page with nbviewer.org.</b></div><div class=\"sk-container\" hidden><div class=\"sk-item\"><div class=\"sk-estimator sk-toggleable\"><input class=\"sk-toggleable__control sk-hidden--visually\" id=\"sk-estimator-id-5\" type=\"checkbox\" checked><label for=\"sk-estimator-id-5\" class=\"sk-toggleable__label sk-toggleable__label-arrow\">NearestNeighbors</label><div class=\"sk-toggleable__content\"><pre>NearestNeighbors(metric=&#x27;cosine&#x27;)</pre></div></div></div></div></div>"
      ],
      "text/plain": [
       "NearestNeighbors(metric='cosine')"
      ]
     },
     "execution_count": 80,
     "metadata": {},
     "output_type": "execute_result"
    }
   ],
   "source": [
    "from sklearn.neighbors import NearestNeighbors\n",
    "\n",
    "# Fit NearestNeighbors with cosine similarity\n",
    "n_neighbors = 5  # Number of nearest neighbors to retrieve\n",
    "nbrs = NearestNeighbors(n_neighbors=n_neighbors, metric='cosine')  # Using cosine similarity\n",
    "nbrs.fit(chunk_embeddings)  # Fit the model with chunk embeddings\n",
    "\n",
    "\n"
   ]
  },
  {
   "cell_type": "code",
   "execution_count": 81,
   "metadata": {},
   "outputs": [],
   "source": [
    "def search_similar_chunks(query, model, nbrs, all_chunks):\n",
    "    # Step 1: Generate the embedding for the query\n",
    "    query_embedding = model.encode([query])\n",
    "\n",
    "    # Step 2: Find the nearest neighbors for the query\n",
    "    distances, indices = nbrs.kneighbors(query_embedding)\n",
    "\n",
    "    # Step 3: Retrieve the most similar chunks\n",
    "    closest_chunks = [all_chunks[i] for i in indices[0]]\n",
    "\n",
    "    # Step 4: Display the results\n",
    "    for i, chunk in enumerate(closest_chunks):\n",
    "        print(f\"Result {i+1}: {chunk}\")"
   ]
  },
  {
   "cell_type": "code",
   "execution_count": 82,
   "metadata": {},
   "outputs": [
    {
     "name": "stdout",
     "output_type": "stream",
     "text": [
      "Result 1: First, we solve for the quantity equilibrium.\n",
      "Result 2: First, we solve for the quantity equilibrium.\n",
      "Result 3: First, we solve for the quantity equilibrium.\n",
      "Result 4: First, we solve for the quantity equilibrium.\n",
      "Result 5: First, we solve for the quantity equilibrium.\n"
     ]
    }
   ],
   "source": [
    "query = \"why do we need to find equilibrium?\"\n",
    "search_similar_chunks(query, model, nbrs, all_chunks)"
   ]
  },
  {
   "cell_type": "code",
   "execution_count": null,
   "metadata": {},
   "outputs": [],
   "source": []
  },
  {
   "cell_type": "code",
   "execution_count": null,
   "metadata": {},
   "outputs": [],
   "source": []
  }
 ],
 "metadata": {
  "kernelspec": {
   "display_name": "Python 3 (ipykernel)",
   "language": "python",
   "name": "python3"
  },
  "language_info": {
   "codemirror_mode": {
    "name": "ipython",
    "version": 3
   },
   "file_extension": ".py",
   "mimetype": "text/x-python",
   "name": "python",
   "nbconvert_exporter": "python",
   "pygments_lexer": "ipython3",
   "version": "3.11.10"
  }
 },
 "nbformat": 4,
 "nbformat_minor": 4
}
